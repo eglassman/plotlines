{
 "metadata": {
  "name": ""
 },
 "nbformat": 3,
 "nbformat_minor": 0,
 "worksheets": [
  {
   "cells": [
    {
     "cell_type": "code",
     "collapsed": false,
     "input": [
      "import json"
     ],
     "language": "python",
     "metadata": {},
     "outputs": [],
     "prompt_number": 1
    },
    {
     "cell_type": "code",
     "collapsed": false,
     "input": [
      "ls"
     ],
     "language": "python",
     "metadata": {},
     "outputs": [
      {
       "output_type": "stream",
       "stream": "stdout",
       "text": [
        "crime and punishment.json   odyssey.json                to kill a mockingbird.json\r\n",
        "inception.json              primer (film).json\r\n",
        "inspectJSONdata.ipynb       the princess bride.json\r\n"
       ]
      }
     ],
     "prompt_number": 2
    },
    {
     "cell_type": "code",
     "collapsed": false,
     "input": [
      "f = open('the princess bride.json','r')"
     ],
     "language": "python",
     "metadata": {},
     "outputs": [],
     "prompt_number": 3
    },
    {
     "cell_type": "code",
     "collapsed": false,
     "input": [
      "data = f.read()"
     ],
     "language": "python",
     "metadata": {},
     "outputs": [],
     "prompt_number": 4
    },
    {
     "cell_type": "code",
     "collapsed": false,
     "input": [
      "data"
     ],
     "language": "python",
     "metadata": {},
     "outputs": [
      {
       "metadata": {},
       "output_type": "pyout",
       "prompt_number": 5,
       "text": [
        "'{\"sentences\":[{\"sentence\":\" In a Renaissance-era world a beautiful young woman named Buttercup lives on a farm in the country of Florin.\",\"relations\":[0]},{\"sentence\":\" She delights in verbally abusing the farm hand Westley, whom she refers to as \\\\\"farm boy\\\\\", by demanding that he perform chores for her.\",\"relations\":[1]},{\"sentence\":\" Westley\\'s only answer is \\\\\"As you wish\\\\\".\",\"relations\":[2]},{\"sentence\":\" She eventually realizes that what he is really saying is, \\\\\"I love you.\\\\\"\",\"relations\":[3]},{\"sentence\":\" After Buttercup realizes that she truly and strongly loves him as well and confesses her mutually strong romantic feelings, Westley leaves to seek his fortune so that they can marry.\",\"relations\":[4,5,6]},{\"sentence\":\" Buttercup later receives word that the Dread Pirate Roberts, who is notorious for killing all those whose vessels he boards, attacked his ship at sea.\",\"relations\":[7,8,9,10]},{\"sentence\":\" Believing Westley dead, Buttercup sinks into a period of abject despair, declaring \\\\\"I will never love again\\\\\".\",\"relations\":[11,12,13]},{\"sentence\":\" Some time later she reluctantly agrees, due to a law allowing the prince to choose any unmarried woman as his bride, to marry Prince Humperdinck, the heir to the throne of Florin, though she makes it clear that she does not love him.\",\"relations\":[14,15,16,17,18]},{\"sentence\":\" A masked man in black follows them across the sea and up the Cliffs of Insanity, whereupon Vizzini orders Inigo to stop him.\",\"relations\":[19]},{\"sentence\":\" Before the man in black reaches the top of the cliff, there is a flashback of Inigo\\'s past in which the novel reveals that he is seeking revenge on a six-fingered man who killed his father.\",\"relations\":[20]},{\"sentence\":\" When the man in black arrives, Inigo arranges a fair fight, allowing his opponent to rest before the duel.\",\"relations\":[21]},{\"sentence\":\" Stunned, Vizzini orders Fezzik to kill the man in black.\",\"relations\":[22,23]},{\"sentence\":\" Another flashback occurs detailing Fezzik\\'s history of reluctant fighting matches since childhood.\",\"relations\":[24]},{\"sentence\":\" His conscience compelling him, Fezzik throws a rock as a warning and challenges the man to a wrestling match.\",\"relations\":[25]},{\"sentence\":\" He then catches up with Vizzini and proposes a battle of wits, in which he tricks Vizzini into drinking wine poisoned with iocaine powder, killing him.\",\"relations\":[26,27,28]},{\"sentence\":\" He taunts Buttercup, claiming that women cannot be trusted and that she must have felt nothing when her true love and sweetheart had died.\",\"relations\":[29,30,31]},{\"sentence\":\" Enraged, she shoves him into a gorge, yelling \\\\\"You can die, too, for all I care!\\\\\" only to hear him call, \\\\\"As you wish!\\\\\" from the bottom of the ravine.\",\"relations\":[32,33]},{\"sentence\":\" She realizes at this point that he is none other than her dearly beloved Westley, and follows him down into the gorge, to find him battered but largely unhurt.\",\"relations\":[34,35,36]},{\"sentence\":\" While traveling through the Fire Swamp such to evade Humpherdinck\\'s party, Westley tells Buttercup that the Dread Pirate Roberts did attack his ship, but kept him alive after he explained the depths of his love for her.\",\"relations\":[37,38,39,40,41]},{\"sentence\":\" Westley became the Dread Pirate Roberts\\' valet, and later his friend.\",\"relations\":[42]},{\"sentence\":\" Over the course of four years, Westley learned how to fence, fight and sail.\",\"relations\":[43]},{\"sentence\":\" Eventually, Roberts secretly passed his name, captaincy, and ship to Westley, just as his predecessor had done.\",\"relations\":[44]},{\"sentence\":\" After facing many trying ordeals such as Snow Sand and Rodents of Unusual Size, Westley and Buttercup successfully negotiate the Fire Swamp, whereupon they are captured by Prince Humperdinck and his menacing six-fingered assistant, Count Tyrone Rugen.\",\"relations\":[45,46]},{\"sentence\":\" Buttercup negotiates for Westley\\'s release and returns with Humperdinck to the palace to await their wedding.\",\"relations\":[47]},{\"sentence\":\" Rugen follows Humperdinck\\'s secret instructions to not release Westley but to take him to the fifth level of his underground hunting arena the \\\\\"Zoo of Death\\\\\".\",\"relations\":[48,49]},{\"sentence\":\" Meanwhile, Buttercup has several nightmares regarding her marriage to the prince.\",\"relations\":[50]},{\"sentence\":\" She expresses her unhappiness to Humperdinck, who proposes a deal wherein he will send out four ships to locate Westley, but if they fail to find him, Buttercup will marry him.\",\"relations\":[51,52,53,54,55,56]},{\"sentence\":\" The novel reveals that, so as to start a war with the neighboring country of Guilder, Humperdinck was the one who had arranged Buttercup\\'s kidnapping and murder, but that he now believes that Buttercup dying on her wedding night will inspire his subjects to war even more effectively.\",\"relations\":[57,58,59]},{\"sentence\":\" On the day of the wedding, Inigo meets again with Fezzik, who tells him that Count Rugen is the six-fingered man who killed his father.\",\"relations\":[60,61,62,63]},{\"sentence\":\" Knowing that Vizzini is dead, they seek out the man in black hoping that, if he could outsmart Vizzini, his wits will help them plan a successful attack on the castle to find and kill Count Rugen.\",\"relations\":[64,65,66]},{\"sentence\":\" Buttercup learns that Humperdinck never sent any ships, and taunts him with her enduring love for Westley.\",\"relations\":[67,68,69]},{\"sentence\":\" Westley\\'s death screams echo across the land, drawing Inigo and Fezzik to the Zoo of Death and down through its many dangerous levels.\",\"relations\":[70,71]},{\"sentence\":\" Finding Westley\\'s body, they enlist the help of the King of Florin\\'s former \\\\\"miracle man\\\\\", a magician named Miracle Max who was fired by Humperdinck.\",\"relations\":[72]},{\"sentence\":\" Max pronounces Westley to be merely \\\\\"mostly dead\\\\\", and returns him to life (out of a desire to get back at Humperdinck), though Westley remains partially paralyzed and weak.\",\"relations\":[73]},{\"sentence\":\" Westley devises a successful plan to invade the castle during the wedding, and the following commotion prompts Humperdinck to cut the wedding short.\",\"relations\":[74]},{\"sentence\":\" Buttercup decides to commit suicide when she reaches the honeymoon suite.\",\"relations\":[75,76,77]},{\"sentence\":\" Inigo pursues Rugen through the castle, and, reciting aloud his long-rehearsed oath of vengeance (\\\\\"Hello.\",\"relations\":[78,79]},{\"sentence\":\" My name is Inigo Montoya.\",\"relations\":[80]},{\"sentence\":\" Westley reaches Buttercup before she commits suicide.\",\"relations\":[81,82]},{\"sentence\":\" Still partially paralyzed, he bluffs his way out of a sword fight with Humperdinck, who shows himself to be a coward.\",\"relations\":[83]},{\"sentence\":\" Instead of killing his rival, Westley decides to leave him alive for a long, miserable life with his obvious cowardice as his only companion.\",\"relations\":[84,85,86]},{\"sentence\":\" The party then rides off into the sunset on four of the prince\\'s purebred white horses which Fezzik had conveniently discovered.\",\"relations\":[87]}],\"people\":{\"Fezzik\\xe2\\x80\\x94kidnap Buttercup\":{\"subjects\":[0,1,4,5,7,11,12,13,14,30,31,32,33,34,35,36,45,50,51,67,69,75,76,77,82],\"objects\":[4,29,30,37,41,57,57,58,59,81]},\"Westley\":{\"subjects\":[2,3,6,37,42,43,45,54,70,71,74,81,84,85,86],\"objects\":[1,1,11,34,42,48,52,72,73]},\"Roberts\":{\"subjects\":[8,9,10,38,39,40,41,44],\"objects\":[8,42]},\"Prince Humperdinck\":{\"subjects\":[16,46,47,48,49,52,53,58,59,68,83],\"objects\":[15,17,18,52,55,56,57,57,57,67,69,74]},\"Vizzini\":{\"subjects\":[19,28],\"objects\":[27,27,27,28,64,65]},\"Inigo Montoya\":{\"subjects\":[19,21,60,78,79,80],\"objects\":[19,20,71,80]},\"Fezzik\":{\"subjects\":[22,23,25,26,27,87],\"objects\":[24,60,61,71]},\"Tyrone Rugen\":{\"subjects\":[46,61,61,62,63],\"objects\":[62,78]},\"Miracle Max\":{\"subjects\":[73],\"objects\":[]}},\"people_array\":[\"Fezzik\\xe2\\x80\\x94kidnap Buttercup\",\"Westley\",\"Roberts\",\"Prince Humperdinck\",\"Vizzini\",\"Inigo Montoya\",\"Fezzik\",\"Tyrone Rugen\",\"Miracle Max\"],\"relations\":[{\"sentence\":\" In a Renaissance-era world a beautiful young woman named Buttercup lives on a farm in the country of Florin.\",\"subject\":{\"text\":\"a beautiful young woman named Buttercup\",\"entities\":[{\"type\":\"Person\",\"text\":\"Fezzik\\xe2\\x80\\x94kidnap Buttercup\"}]},\"action\":{\"text\":\"lives\",\"lemmatized\":\"live\",\"verb\":{\"text\":\"live\",\"tense\":\"present\"}},\"location\":{\"text\":\"In a Renaissance-era world\"}},{\"sentence\":\" She delights in verbally abusing the farm hand Westley, whom she refers to as \\\\\"farm boy\\\\\", by demanding that he perform chores for her.\",\"subject\":{\"text\":\"She\",\"entities\":[{\"type\":\"Person\",\"text\":\"Fezzik\\xe2\\x80\\x94kidnap Buttercup\"}]},\"action\":{\"text\":\"abusing\",\"lemmatized\":\"abuse\",\"verb\":{\"text\":\"abuse\",\"tense\":\"present\"}},\"object\":{\"text\":\"the farm hand Westley, whom she refers to as \\\\\"farm boy\\\\\"\",\"entities\":[{\"type\":\"Person\",\"text\":\"Westley\"},{\"type\":\"Person\",\"text\":\"Westley\"}]}},{\"sentence\":\" Westley\\'s only answer is \\\\\"As you wish\\\\\".\",\"subject\":{\"text\":\"Westley\\'s only answer\",\"entities\":[{\"type\":\"Person\",\"text\":\"Westley\"}]},\"action\":{\"text\":\"is\",\"lemmatized\":\"be\",\"verb\":{\"text\":\"be\",\"tense\":\"present\"}},\"object\":{\"text\":\"As you wish\"}},{\"sentence\":\" She eventually realizes that what he is really saying is, \\\\\"I love you.\\\\\"\",\"subject\":{\"text\":\"She\",\"entities\":[{\"type\":\"Person\",\"text\":\"Westley\"}]},\"action\":{\"text\":\"realizes\",\"lemmatized\":\"realize\",\"verb\":{\"text\":\"realize\",\"tense\":\"present\"}},\"object\":{\"text\":\"that what he is really saying is\"}},{\"sentence\":\" After Buttercup realizes that she truly and strongly loves him as well and confesses her mutually strong romantic feelings, Westley leaves to seek his fortune so that they can marry.\",\"subject\":{\"text\":\"Buttercup\",\"entities\":[{\"type\":\"Person\",\"text\":\"Fezzik\\xe2\\x80\\x94kidnap Buttercup\"}]},\"action\":{\"text\":\"realizes\",\"lemmatized\":\"realize\",\"verb\":{\"text\":\"realize\",\"tense\":\"present\"}},\"object\":{\"text\":\"that she truly\",\"entities\":[{\"type\":\"Person\",\"text\":\"Fezzik\\xe2\\x80\\x94kidnap Buttercup\"}]}},{\"sentence\":\" After Buttercup realizes that she truly and strongly loves him as well and confesses her mutually strong romantic feelings, Westley leaves to seek his fortune so that they can marry.\",\"subject\":{\"text\":\"she\",\"entities\":[{\"type\":\"Person\",\"text\":\"Fezzik\\xe2\\x80\\x94kidnap Buttercup\"}]},\"action\":{\"text\":\"loves\",\"lemmatized\":\"love\",\"verb\":{\"text\":\"love\",\"tense\":\"present\"}},\"object\":{\"text\":\"him\"}},{\"sentence\":\" After Buttercup realizes that she truly and strongly loves him as well and confesses her mutually strong romantic feelings, Westley leaves to seek his fortune so that they can marry.\",\"subject\":{\"text\":\"Westley\",\"entities\":[{\"type\":\"Person\",\"text\":\"Westley\"}]},\"action\":{\"text\":\"leaves to seek\",\"lemmatized\":\"leave to seek\",\"verb\":{\"text\":\"seek\",\"tense\":\"future\"}},\"object\":{\"text\":\"his fortune so that they can marry\"}},{\"sentence\":\" Buttercup later receives word that the Dread Pirate Roberts, who is notorious for killing all those whose vessels he boards, attacked his ship at sea.\",\"subject\":{\"text\":\"Buttercup\",\"entities\":[{\"type\":\"Person\",\"text\":\"Fezzik\\xe2\\x80\\x94kidnap Buttercup\"}]},\"action\":{\"text\":\"receives\",\"lemmatized\":\"receive\",\"verb\":{\"text\":\"receive\",\"tense\":\"present\"}},\"object\":{\"text\":\"word\"}},{\"sentence\":\" Buttercup later receives word that the Dread Pirate Roberts, who is notorious for killing all those whose vessels he boards, attacked his ship at sea.\",\"subject\":{\"text\":\"the Dread Pirate Roberts\",\"entities\":[{\"type\":\"Person\",\"text\":\"Roberts\"}]},\"action\":{\"text\":\"is\",\"lemmatized\":\"be\",\"verb\":{\"text\":\"be\",\"tense\":\"present\"}},\"object\":{\"text\":\"notorious for killing all those whose vessels he boards\",\"entities\":[{\"type\":\"Person\",\"text\":\"Roberts\"}]}},{\"sentence\":\" Buttercup later receives word that the Dread Pirate Roberts, who is notorious for killing all those whose vessels he boards, attacked his ship at sea.\",\"subject\":{\"text\":\"the Dread Pirate Roberts\",\"entities\":[{\"type\":\"Person\",\"text\":\"Roberts\"}]},\"action\":{\"text\":\"killing\",\"lemmatized\":\"kill\",\"verb\":{\"text\":\"kill\",\"tense\":\"present\"}},\"object\":{\"text\":\"all those\"}},{\"sentence\":\" Buttercup later receives word that the Dread Pirate Roberts, who is notorious for killing all those whose vessels he boards, attacked his ship at sea.\",\"subject\":{\"text\":\"all those whose vessels he boards,\",\"entities\":[{\"type\":\"Person\",\"text\":\"Roberts\"}]},\"action\":{\"text\":\"attacked\",\"lemmatized\":\"attack\",\"verb\":{\"text\":\"attack\",\"tense\":\"past\"}},\"object\":{\"text\":\"his ship at sea\"}},{\"sentence\":\" Believing Westley dead, Buttercup sinks into a period of abject despair, declaring \\\\\"I will never love again\\\\\".\",\"subject\":{\"text\":\"Buttercup\",\"entities\":[{\"type\":\"Person\",\"text\":\"Fezzik\\xe2\\x80\\x94kidnap Buttercup\"}]},\"action\":{\"text\":\"Believing\",\"lemmatized\":\"Believing\",\"verb\":{\"text\":\"Believing\",\"tense\":\"present\"}},\"object\":{\"text\":\"Westley\",\"entities\":[{\"type\":\"Person\",\"text\":\"Westley\"}]}},{\"sentence\":\" Believing Westley dead, Buttercup sinks into a period of abject despair, declaring \\\\\"I will never love again\\\\\".\",\"subject\":{\"text\":\"Buttercup\",\"entities\":[{\"type\":\"Person\",\"text\":\"Fezzik\\xe2\\x80\\x94kidnap Buttercup\"}]},\"action\":{\"text\":\"sinks\",\"lemmatized\":\"sink\",\"verb\":{\"text\":\"sink\",\"tense\":\"present\"}}},{\"sentence\":\" Believing Westley dead, Buttercup sinks into a period of abject despair, declaring \\\\\"I will never love again\\\\\".\",\"subject\":{\"text\":\"Buttercup\",\"entities\":[{\"type\":\"Person\",\"text\":\"Fezzik\\xe2\\x80\\x94kidnap Buttercup\"}]},\"action\":{\"text\":\"declaring\",\"lemmatized\":\"declare\",\"verb\":{\"text\":\"declare\",\"tense\":\"present\"}},\"object\":{\"text\":\"\\\\\"I will never love again\"}},{\"sentence\":\" Some time later she reluctantly agrees, due to a law allowing the prince to choose any unmarried woman as his bride, to marry Prince Humperdinck, the heir to the throne of Florin, though she makes it clear that she does not love him.\",\"subject\":{\"text\":\"she\",\"entities\":[{\"type\":\"Person\",\"text\":\"Fezzik\\xe2\\x80\\x94kidnap Buttercup\"}]},\"action\":{\"text\":\"agrees\",\"lemmatized\":\"agree\",\"verb\":{\"text\":\"agree\",\"tense\":\"present\"}}},{\"sentence\":\" Some time later she reluctantly agrees, due to a law allowing the prince to choose any unmarried woman as his bride, to marry Prince Humperdinck, the heir to the throne of Florin, though she makes it clear that she does not love him.\",\"subject\":{\"text\":\"a law\"},\"action\":{\"text\":\"allowing\",\"lemmatized\":\"allow\",\"verb\":{\"text\":\"allow\",\"tense\":\"present\"}},\"object\":{\"text\":\"the prince to choose any unmarried woman as his bride, to marry Prince Humperdinck, the heir to the throne of Florin\",\"entities\":[{\"type\":\"Person\",\"text\":\"Prince Humperdinck\"},{\"type\":\"City\",\"text\":\"Florin\"}]}},{\"sentence\":\" Some time later she reluctantly agrees, due to a law allowing the prince to choose any unmarried woman as his bride, to marry Prince Humperdinck, the heir to the throne of Florin, though she makes it clear that she does not love him.\",\"subject\":{\"text\":\"Prince Humperdinck, the heir\",\"entities\":[{\"type\":\"Person\",\"text\":\"Prince Humperdinck\"}]},\"action\":{\"text\":\"to marry\",\"lemmatized\":\"to marry\",\"verb\":{\"text\":\"marry\",\"tense\":\"future\"}},\"object\":{\"text\":\"to the throne of Florin\",\"entities\":[{\"type\":\"City\",\"text\":\"Florin\"}]}},{\"sentence\":\" Some time later she reluctantly agrees, due to a law allowing the prince to choose any unmarried woman as his bride, to marry Prince Humperdinck, the heir to the throne of Florin, though she makes it clear that she does not love him.\",\"subject\":{\"text\":\"she\"},\"action\":{\"text\":\"makes\",\"lemmatized\":\"make\",\"verb\":{\"text\":\"make\",\"tense\":\"present\"}},\"object\":{\"text\":\"that she does not love him\",\"entities\":[{\"type\":\"Person\",\"text\":\"Prince Humperdinck\"}]}},{\"sentence\":\" Some time later she reluctantly agrees, due to a law allowing the prince to choose any unmarried woman as his bride, to marry Prince Humperdinck, the heir to the throne of Florin, though she makes it clear that she does not love him.\",\"subject\":{\"text\":\"she\"},\"action\":{\"text\":\"love\",\"lemmatized\":\"love\",\"verb\":{\"text\":\"love\",\"tense\":\"present\",\"negated\":\"1\"}},\"object\":{\"text\":\"him\",\"entities\":[{\"type\":\"Person\",\"text\":\"Prince Humperdinck\"}]}},{\"sentence\":\" A masked man in black follows them across the sea and up the Cliffs of Insanity, whereupon Vizzini orders Inigo to stop him.\",\"subject\":{\"text\":\"Vizzini orders Inigo\",\"entities\":[{\"type\":\"Person\",\"text\":\"Vizzini\"},{\"type\":\"Person\",\"text\":\"Inigo Montoya\"}]},\"action\":{\"text\":\"to stop\",\"lemmatized\":\"to stop\",\"verb\":{\"text\":\"stop\",\"tense\":\"future\"}},\"object\":{\"text\":\"him\",\"entities\":[{\"type\":\"Person\",\"text\":\"Inigo Montoya\"}]}},{\"sentence\":\" Before the man in black reaches the top of the cliff, there is a flashback of Inigo\\'s past in which the novel reveals that he is seeking revenge on a six-fingered man who killed his father.\",\"subject\":{\"text\":\"the novel\"},\"action\":{\"text\":\"reveals\",\"lemmatized\":\"reveal\",\"verb\":{\"text\":\"reveal\",\"tense\":\"present\"}},\"object\":{\"text\":\"that he is seeking revenge on a six-fingered man who killed his father\",\"entities\":[{\"type\":\"Person\",\"text\":\"Inigo Montoya\"}]}},{\"sentence\":\" When the man in black arrives, Inigo arranges a fair fight, allowing his opponent to rest before the duel.\",\"subject\":{\"text\":\"Inigo\",\"entities\":[{\"type\":\"Person\",\"text\":\"Inigo Montoya\"}]},\"action\":{\"text\":\"arranges\",\"lemmatized\":\"arrange\",\"verb\":{\"text\":\"arrange\",\"tense\":\"present\"}},\"object\":{\"text\":\"a fair fight\"}},{\"sentence\":\" Stunned, Vizzini orders Fezzik to kill the man in black.\",\"subject\":{\"text\":\"Vizzini orders Fezzik\",\"entities\":[{\"type\":\"Person\",\"text\":\"Fezzik\"}]},\"action\":{\"text\":\"Stunned\",\"lemmatized\":\"Stunned\",\"verb\":{\"text\":\"Stunned\",\"tense\":\"past\"}},\"object\":{\"text\":\"to kill the man in black\"}},{\"sentence\":\" Stunned, Vizzini orders Fezzik to kill the man in black.\",\"subject\":{\"text\":\"Vizzini orders Fezzik\",\"entities\":[{\"type\":\"Person\",\"text\":\"Fezzik\"}]},\"action\":{\"text\":\"to kill\",\"lemmatized\":\"to kill\",\"verb\":{\"text\":\"kill\",\"tense\":\"future\"}},\"object\":{\"text\":\"the man\"}},{\"sentence\":\" Another flashback occurs detailing Fezzik\\'s history of reluctant fighting matches since childhood.\",\"subject\":{\"text\":\"Another flashback\"},\"action\":{\"text\":\"occurs detailing\",\"lemmatized\":\"occur detail\",\"verb\":{\"text\":\"detail\",\"tense\":\"present\"}},\"object\":{\"text\":\"Fezzik\\'s history of reluctant fighting matches since childhood\",\"entities\":[{\"type\":\"Person\",\"text\":\"Fezzik\"}]}},{\"sentence\":\" His conscience compelling him, Fezzik throws a rock as a warning and challenges the man to a wrestling match.\",\"subject\":{\"text\":\"Fezzik\",\"entities\":[{\"type\":\"Person\",\"text\":\"Fezzik\"}]},\"action\":{\"text\":\"throws\",\"lemmatized\":\"throw\",\"verb\":{\"text\":\"throw\",\"tense\":\"present\"}},\"object\":{\"text\":\"a rock\"}},{\"sentence\":\" He then catches up with Vizzini and proposes a battle of wits, in which he tricks Vizzini into drinking wine poisoned with iocaine powder, killing him.\",\"subject\":{\"text\":\"He\",\"entities\":[{\"type\":\"Person\",\"text\":\"Fezzik\"}]},\"action\":{\"text\":\"catches\",\"lemmatized\":\"catch\",\"verb\":{\"text\":\"catch\",\"tense\":\"present\"}},\"object\":{\"text\":\"with Vizzini\",\"entities\":[{\"type\":\"City\",\"text\":\"Vizzini\",\"disambiguated\":{\"subType\":[\"Location\",\"CityTown\"],\"name\":\"Vizzini\",\"website\":\"http://www.comune.vizzini.ct-egov.it/\",\"dbpedia\":\"http://dbpedia.org/resource/Vizzini\",\"freebase\":\"http://rdf.freebase.com/ns/m.04pmlz\",\"yago\":\"http://yago-knowledge.org/resource/Vizzini\",\"geonames\":\"http://sws.geonames.org/2522709/\"}}]}},{\"sentence\":\" He then catches up with Vizzini and proposes a battle of wits, in which he tricks Vizzini into drinking wine poisoned with iocaine powder, killing him.\",\"subject\":{\"text\":\"He\",\"entities\":[{\"type\":\"Person\",\"text\":\"Fezzik\"}]},\"action\":{\"text\":\"proposes\",\"lemmatized\":\"propose\",\"verb\":{\"text\":\"propose\",\"tense\":\"present\"}},\"object\":{\"text\":\"a battle of wits, in which he tricks Vizzini into drinking wine poisoned with iocaine powder, killing him\",\"entities\":[{\"type\":\"Person\",\"text\":\"Vizzini\"},{\"type\":\"Person\",\"text\":\"Vizzini\"},{\"type\":\"Person\",\"text\":\"Vizzini\"}]}},{\"sentence\":\" He then catches up with Vizzini and proposes a battle of wits, in which he tricks Vizzini into drinking wine poisoned with iocaine powder, killing him.\",\"subject\":{\"text\":\"he\",\"entities\":[{\"type\":\"Person\",\"text\":\"Vizzini\"}]},\"action\":{\"text\":\"killing\",\"lemmatized\":\"kill\",\"verb\":{\"text\":\"kill\",\"tense\":\"present\"}},\"object\":{\"text\":\"him\",\"entities\":[{\"type\":\"Person\",\"text\":\"Vizzini\"}]}},{\"sentence\":\" He taunts Buttercup, claiming that women cannot be trusted and that she must have felt nothing when her true love and sweetheart had died.\",\"subject\":{\"text\":\"He\"},\"action\":{\"text\":\"taunts\",\"lemmatized\":\"taunt\",\"verb\":{\"text\":\"taunt\",\"tense\":\"present\"}},\"object\":{\"text\":\"Buttercup\",\"entities\":[{\"type\":\"Person\",\"text\":\"Fezzik\\xe2\\x80\\x94kidnap Buttercup\"}]}},{\"sentence\":\" He taunts Buttercup, claiming that women cannot be trusted and that she must have felt nothing when her true love and sweetheart had died.\",\"subject\":{\"text\":\"Buttercup\",\"entities\":[{\"type\":\"Person\",\"text\":\"Fezzik\\xe2\\x80\\x94kidnap Buttercup\"}]},\"action\":{\"text\":\"claiming\",\"lemmatized\":\"claim\",\"verb\":{\"text\":\"claim\",\"tense\":\"present\"}},\"object\":{\"text\":\"that women cannot be trusted and that she must have felt nothing when her true love and sweetheart had died\",\"entities\":[{\"type\":\"Person\",\"text\":\"Fezzik\\xe2\\x80\\x94kidnap Buttercup\"}]}},{\"sentence\":\" He taunts Buttercup, claiming that women cannot be trusted and that she must have felt nothing when her true love and sweetheart had died.\",\"subject\":{\"text\":\"she\",\"entities\":[{\"type\":\"Person\",\"text\":\"Fezzik\\xe2\\x80\\x94kidnap Buttercup\"}]},\"action\":{\"text\":\"have\",\"lemmatized\":\"have\",\"verb\":{\"text\":\"have\",\"tense\":\"future\"}},\"object\":{\"text\":\"felt nothing\"}},{\"sentence\":\" Enraged, she shoves him into a gorge, yelling \\\\\"You can die, too, for all I care!\\\\\" only to hear him call, \\\\\"As you wish!\\\\\" from the bottom of the ravine.\",\"subject\":{\"text\":\"she\",\"entities\":[{\"type\":\"Person\",\"text\":\"Fezzik\\xe2\\x80\\x94kidnap Buttercup\"}]},\"action\":{\"text\":\"shoves\",\"lemmatized\":\"shove\",\"verb\":{\"text\":\"shove\",\"tense\":\"present\"}},\"object\":{\"text\":\"him\"}},{\"sentence\":\" Enraged, she shoves him into a gorge, yelling \\\\\"You can die, too, for all I care!\\\\\" only to hear him call, \\\\\"As you wish!\\\\\" from the bottom of the ravine.\",\"subject\":{\"text\":\"she\",\"entities\":[{\"type\":\"Person\",\"text\":\"Fezzik\\xe2\\x80\\x94kidnap Buttercup\"}]},\"action\":{\"text\":\"yelling\",\"lemmatized\":\"yell\",\"verb\":{\"text\":\"yell\",\"tense\":\"present\"}},\"object\":{\"text\":\"You can die, too, for all I care!\\\\\" only to hear him call, \\\\\"As you wish!\\\\\" from the bottom of the ravine\"}},{\"sentence\":\" She realizes at this point that he is none other than her dearly beloved Westley, and follows him down into the gorge, to find him battered but largely unhurt.\",\"subject\":{\"text\":\"She\",\"entities\":[{\"type\":\"Person\",\"text\":\"Fezzik\\xe2\\x80\\x94kidnap Buttercup\"}]},\"action\":{\"text\":\"realizes\",\"lemmatized\":\"realize\",\"verb\":{\"text\":\"realize\",\"tense\":\"present\"}},\"object\":{\"text\":\"that he is none other than her dearly beloved Westley\",\"entities\":[{\"type\":\"Person\",\"text\":\"Westley\"}]}},{\"sentence\":\" She realizes at this point that he is none other than her dearly beloved Westley, and follows him down into the gorge, to find him battered but largely unhurt.\",\"subject\":{\"text\":\"She\",\"entities\":[{\"type\":\"Person\",\"text\":\"Fezzik\\xe2\\x80\\x94kidnap Buttercup\"}]},\"action\":{\"text\":\"follows\",\"lemmatized\":\"follow\",\"verb\":{\"text\":\"follow\",\"tense\":\"present\"}},\"object\":{\"text\":\"him\"}},{\"sentence\":\" She realizes at this point that he is none other than her dearly beloved Westley, and follows him down into the gorge, to find him battered but largely unhurt.\",\"subject\":{\"text\":\"She\",\"entities\":[{\"type\":\"Person\",\"text\":\"Fezzik\\xe2\\x80\\x94kidnap Buttercup\"}]},\"action\":{\"text\":\"to find\",\"lemmatized\":\"to find\",\"verb\":{\"text\":\"find\",\"tense\":\"future\"}},\"object\":{\"text\":\"him\"}},{\"sentence\":\" While traveling through the Fire Swamp such to evade Humpherdinck\\'s party, Westley tells Buttercup that the Dread Pirate Roberts did attack his ship, but kept him alive after he explained the depths of his love for her.\",\"subject\":{\"text\":\"Westley\",\"entities\":[{\"type\":\"Person\",\"text\":\"Westley\"}]},\"action\":{\"text\":\"tells\",\"lemmatized\":\"tell\",\"verb\":{\"text\":\"tell\",\"tense\":\"present\"}},\"object\":{\"text\":\"Buttercup\",\"entities\":[{\"type\":\"Person\",\"text\":\"Fezzik\\xe2\\x80\\x94kidnap Buttercup\"}]}},{\"sentence\":\" While traveling through the Fire Swamp such to evade Humpherdinck\\'s party, Westley tells Buttercup that the Dread Pirate Roberts did attack his ship, but kept him alive after he explained the depths of his love for her.\",\"subject\":{\"text\":\"the Dread Pirate Roberts\",\"entities\":[{\"type\":\"Person\",\"text\":\"Roberts\"}]},\"action\":{\"text\":\"did\",\"lemmatized\":\"do\",\"verb\":{\"text\":\"do\",\"tense\":\"past\"}},\"object\":{\"text\":\"attack\"}},{\"sentence\":\" While traveling through the Fire Swamp such to evade Humpherdinck\\'s party, Westley tells Buttercup that the Dread Pirate Roberts did attack his ship, but kept him alive after he explained the depths of his love for her.\",\"subject\":{\"text\":\"the Dread Pirate Roberts\",\"entities\":[{\"type\":\"Person\",\"text\":\"Roberts\"}]},\"action\":{\"text\":\"did attack\",\"lemmatized\":\"do attack\",\"verb\":{\"text\":\"attack\",\"tense\":\"past\"}},\"object\":{\"text\":\"his ship\"}},{\"sentence\":\" While traveling through the Fire Swamp such to evade Humpherdinck\\'s party, Westley tells Buttercup that the Dread Pirate Roberts did attack his ship, but kept him alive after he explained the depths of his love for her.\",\"subject\":{\"text\":\"him\",\"entities\":[{\"type\":\"Person\",\"text\":\"Roberts\"}]},\"action\":{\"text\":\"kept\",\"lemmatized\":\"keep\",\"verb\":{\"text\":\"keep\",\"tense\":\"past\"}},\"object\":{\"text\":\"alive\"}},{\"sentence\":\" While traveling through the Fire Swamp such to evade Humpherdinck\\'s party, Westley tells Buttercup that the Dread Pirate Roberts did attack his ship, but kept him alive after he explained the depths of his love for her.\",\"subject\":{\"text\":\"he\",\"entities\":[{\"type\":\"Person\",\"text\":\"Roberts\"}]},\"action\":{\"text\":\"explained\",\"lemmatized\":\"explain\",\"verb\":{\"text\":\"explain\",\"tense\":\"past\"}},\"object\":{\"text\":\"the depths of his love for her\",\"entities\":[{\"type\":\"Person\",\"text\":\"Fezzik\\xe2\\x80\\x94kidnap Buttercup\"}]}},{\"sentence\":\" Westley became the Dread Pirate Roberts\\' valet, and later his friend.\",\"subject\":{\"text\":\"Westley\",\"entities\":[{\"type\":\"Person\",\"text\":\"Westley\"}]},\"action\":{\"text\":\"became\",\"lemmatized\":\"become\",\"verb\":{\"text\":\"become\",\"tense\":\"past\"}},\"object\":{\"text\":\"the Dread Pirate Roberts\\' valet, and later his friend\",\"entities\":[{\"type\":\"Person\",\"text\":\"Roberts\"},{\"type\":\"Person\",\"text\":\"Westley\"}]}},{\"sentence\":\" Over the course of four years, Westley learned how to fence, fight and sail.\",\"subject\":{\"text\":\"Westley\",\"entities\":[{\"type\":\"Person\",\"text\":\"Westley\"}]},\"action\":{\"text\":\"learned\",\"lemmatized\":\"learn\",\"verb\":{\"text\":\"learn\",\"tense\":\"past\"}},\"object\":{\"text\":\"how to fence, fight and sail\"}},{\"sentence\":\" Eventually, Roberts secretly passed his name, captaincy, and ship to Westley, just as his predecessor had done.\",\"subject\":{\"text\":\"Roberts\",\"entities\":[{\"type\":\"Person\",\"text\":\"Roberts\"}]},\"action\":{\"text\":\"passed\",\"lemmatized\":\"pass\",\"verb\":{\"text\":\"pass\",\"tense\":\"past\"}},\"object\":{\"text\":\"his name\"}},{\"sentence\":\" After facing many trying ordeals such as Snow Sand and Rodents of Unusual Size, Westley and Buttercup successfully negotiate the Fire Swamp, whereupon they are captured by Prince Humperdinck and his menacing six-fingered assistant, Count Tyrone Rugen.\",\"subject\":{\"text\":\"Westley and Buttercup\",\"entities\":[{\"type\":\"Person\",\"text\":\"Westley\"},{\"type\":\"Person\",\"text\":\"Fezzik\\xe2\\x80\\x94kidnap Buttercup\"}]},\"action\":{\"text\":\"negotiate\",\"lemmatized\":\"negotiate\",\"verb\":{\"text\":\"negotiate\",\"tense\":\"present\"}},\"object\":{\"text\":\"the Fire Swamp\",\"entities\":[{\"type\":\"GeographicFeature\",\"text\":\"Fire Swamp\"}]}},{\"sentence\":\" After facing many trying ordeals such as Snow Sand and Rodents of Unusual Size, Westley and Buttercup successfully negotiate the Fire Swamp, whereupon they are captured by Prince Humperdinck and his menacing six-fingered assistant, Count Tyrone Rugen.\",\"subject\":{\"text\":\"by Prince Humperdinck and his menacing six-fingered assistant, Count Tyrone Rugen\",\"entities\":[{\"type\":\"Person\",\"text\":\"Prince Humperdinck\"},{\"type\":\"Person\",\"text\":\"Tyrone Rugen\"}]},\"action\":{\"text\":\"are captured\",\"lemmatized\":\"be capture\",\"verb\":{\"text\":\"capture\",\"tense\":\"past\"}},\"object\":{\"text\":\"they\"}},{\"sentence\":\" Buttercup negotiates for Westley\\'s release and returns with Humperdinck to the palace to await their wedding.\",\"subject\":{\"text\":\"returns with Humperdinck to the palace\",\"entities\":[{\"type\":\"Person\",\"text\":\"Prince Humperdinck\"}]},\"action\":{\"text\":\"to await\",\"lemmatized\":\"to await\",\"verb\":{\"text\":\"await\",\"tense\":\"future\"}},\"object\":{\"text\":\"their wedding\"}},{\"sentence\":\" Rugen follows Humperdinck\\'s secret instructions to not release Westley but to take him to the fifth level of his underground hunting arena the \\\\\"Zoo of Death\\\\\".\",\"subject\":{\"text\":\"Humperdinck\",\"entities\":[{\"type\":\"Person\",\"text\":\"Prince Humperdinck\"}]},\"action\":{\"text\":\"release\",\"lemmatized\":\"release\",\"verb\":{\"text\":\"release\",\"tense\":\"present\",\"negated\":\"1\"}},\"object\":{\"text\":\"Westley\",\"entities\":[{\"type\":\"Person\",\"text\":\"Westley\"}]}},{\"sentence\":\" Rugen follows Humperdinck\\'s secret instructions to not release Westley but to take him to the fifth level of his underground hunting arena the \\\\\"Zoo of Death\\\\\".\",\"subject\":{\"text\":\"him\",\"entities\":[{\"type\":\"Person\",\"text\":\"Prince Humperdinck\"}]},\"action\":{\"text\":\"to take\",\"lemmatized\":\"to take\",\"verb\":{\"text\":\"take\",\"tense\":\"future\"}},\"object\":{\"text\":\"to the fifth level of his underground hunting arena the \\\\\"Zoo of Death\\\\\"\"}},{\"sentence\":\" Meanwhile, Buttercup has several nightmares regarding her marriage to the prince.\",\"subject\":{\"text\":\"Buttercup\",\"entities\":[{\"type\":\"Person\",\"text\":\"Fezzik\\xe2\\x80\\x94kidnap Buttercup\"}]},\"action\":{\"text\":\"has\",\"lemmatized\":\"have\",\"verb\":{\"text\":\"have\",\"tense\":\"present\"}},\"object\":{\"text\":\"several nightmares regarding her marriage to the prince\"}},{\"sentence\":\" She expresses her unhappiness to Humperdinck, who proposes a deal wherein he will send out four ships to locate Westley, but if they fail to find him, Buttercup will marry him.\",\"subject\":{\"text\":\"She\",\"entities\":[{\"type\":\"Person\",\"text\":\"Fezzik\\xe2\\x80\\x94kidnap Buttercup\"}]},\"action\":{\"text\":\"expresses\",\"lemmatized\":\"express\",\"verb\":{\"text\":\"express\",\"tense\":\"present\"}},\"object\":{\"text\":\"her unhappiness\"}},{\"sentence\":\" She expresses her unhappiness to Humperdinck, who proposes a deal wherein he will send out four ships to locate Westley, but if they fail to find him, Buttercup will marry him.\",\"subject\":{\"text\":\"Humperdinck\",\"entities\":[{\"type\":\"Person\",\"text\":\"Prince Humperdinck\"}]},\"action\":{\"text\":\"proposes\",\"lemmatized\":\"propose\",\"verb\":{\"text\":\"propose\",\"tense\":\"present\"}},\"object\":{\"text\":\"a deal wherein he will send out four ships to locate Westley\",\"entities\":[{\"type\":\"Person\",\"text\":\"Prince Humperdinck\"},{\"type\":\"Person\",\"text\":\"Westley\"}]}},{\"sentence\":\" She expresses her unhappiness to Humperdinck, who proposes a deal wherein he will send out four ships to locate Westley, but if they fail to find him, Buttercup will marry him.\",\"subject\":{\"text\":\"he\",\"entities\":[{\"type\":\"Person\",\"text\":\"Prince Humperdinck\"}]},\"action\":{\"text\":\"will send\",\"lemmatized\":\"will send\",\"verb\":{\"text\":\"send\",\"tense\":\"future\"}},\"object\":{\"text\":\"four ships\"}},{\"sentence\":\" She expresses her unhappiness to Humperdinck, who proposes a deal wherein he will send out four ships to locate Westley, but if they fail to find him, Buttercup will marry him.\",\"subject\":{\"text\":\"Westley\",\"entities\":[{\"type\":\"Person\",\"text\":\"Westley\"}]},\"action\":{\"text\":\"to locate\",\"lemmatized\":\"to locate\",\"verb\":{\"text\":\"locate\",\"tense\":\"future\"}},\"object\":{\"text\":\"four ships\"}},{\"sentence\":\" She expresses her unhappiness to Humperdinck, who proposes a deal wherein he will send out four ships to locate Westley, but if they fail to find him, Buttercup will marry him.\",\"subject\":{\"text\":\"they\"},\"action\":{\"text\":\"fail\",\"lemmatized\":\"fail\",\"verb\":{\"text\":\"fail\",\"tense\":\"present\"}},\"object\":{\"text\":\"to find him\",\"entities\":[{\"type\":\"Person\",\"text\":\"Prince Humperdinck\"}]}},{\"sentence\":\" She expresses her unhappiness to Humperdinck, who proposes a deal wherein he will send out four ships to locate Westley, but if they fail to find him, Buttercup will marry him.\",\"subject\":{\"text\":\"they\"},\"action\":{\"text\":\"fail to find\",\"lemmatized\":\"fail to find\",\"verb\":{\"text\":\"find\",\"tense\":\"future\"}},\"object\":{\"text\":\"him\",\"entities\":[{\"type\":\"Person\",\"text\":\"Prince Humperdinck\"}]}},{\"sentence\":\" The novel reveals that, so as to start a war with the neighboring country of Guilder, Humperdinck was the one who had arranged Buttercup\\'s kidnapping and murder, but that he now believes that Buttercup dying on her wedding night will inspire his subjects to war even more effectively.\",\"subject\":{\"text\":\"The novel\"},\"action\":{\"text\":\"reveals\",\"lemmatized\":\"reveal\",\"verb\":{\"text\":\"reveal\",\"tense\":\"present\"}},\"object\":{\"text\":\"that, so as to start a war with the neighboring country of Guilder, Humperdinck was the one who had arranged Buttercup\\'s kidnapping and murder, but that he now believes that Buttercup dying on her wedding night will inspire his subjects to war even more effectively\",\"entities\":[{\"type\":\"Person\",\"text\":\"Prince Humperdinck\"},{\"type\":\"Person\",\"text\":\"Prince Humperdinck\"},{\"type\":\"Person\",\"text\":\"Fezzik\\xe2\\x80\\x94kidnap Buttercup\"},{\"type\":\"Crime\",\"text\":\"kidnapping\"},{\"type\":\"Crime\",\"text\":\"murder\"},{\"type\":\"Person\",\"text\":\"Prince Humperdinck\"},{\"type\":\"Person\",\"text\":\"Fezzik\\xe2\\x80\\x94kidnap Buttercup\"}]}},{\"sentence\":\" The novel reveals that, so as to start a war with the neighboring country of Guilder, Humperdinck was the one who had arranged Buttercup\\'s kidnapping and murder, but that he now believes that Buttercup dying on her wedding night will inspire his subjects to war even more effectively.\",\"subject\":{\"text\":\"the one\",\"entities\":[{\"type\":\"Person\",\"text\":\"Prince Humperdinck\"}]},\"action\":{\"text\":\"had arranged\",\"lemmatized\":\"have arrange\",\"verb\":{\"text\":\"arrange\",\"tense\":\"past\"}},\"object\":{\"text\":\"Buttercup\\'s kidnapping and murder\",\"entities\":[{\"type\":\"Person\",\"text\":\"Fezzik\\xe2\\x80\\x94kidnap Buttercup\"},{\"type\":\"Crime\",\"text\":\"kidnapping\"},{\"type\":\"Crime\",\"text\":\"murder\"}]}},{\"sentence\":\" The novel reveals that, so as to start a war with the neighboring country of Guilder, Humperdinck was the one who had arranged Buttercup\\'s kidnapping and murder, but that he now believes that Buttercup dying on her wedding night will inspire his subjects to war even more effectively.\",\"subject\":{\"text\":\"he\",\"entities\":[{\"type\":\"Person\",\"text\":\"Prince Humperdinck\"}]},\"action\":{\"text\":\"believes\",\"lemmatized\":\"believe\",\"verb\":{\"text\":\"believe\",\"tense\":\"present\"}},\"object\":{\"text\":\"that Buttercup dying on her wedding night will inspire his subjects to war even more effectively\",\"entities\":[{\"type\":\"Person\",\"text\":\"Fezzik\\xe2\\x80\\x94kidnap Buttercup\"}]}},{\"sentence\":\" On the day of the wedding, Inigo meets again with Fezzik, who tells him that Count Rugen is the six-fingered man who killed his father.\",\"subject\":{\"text\":\"Inigo\",\"entities\":[{\"type\":\"Person\",\"text\":\"Inigo Montoya\"}]},\"action\":{\"text\":\"meets\",\"lemmatized\":\"meet\",\"verb\":{\"text\":\"meet\",\"tense\":\"present\"}},\"object\":{\"text\":\"with Fezzik\",\"entities\":[{\"type\":\"Person\",\"text\":\"Fezzik\"}]}},{\"sentence\":\" On the day of the wedding, Inigo meets again with Fezzik, who tells him that Count Rugen is the six-fingered man who killed his father.\",\"subject\":{\"text\":\"that Count Rugen is the six-fingered man who killed his father\",\"entities\":[{\"type\":\"Person\",\"text\":\"Tyrone Rugen\"},{\"type\":\"Person\",\"text\":\"Tyrone Rugen\"}]},\"action\":{\"text\":\"tells\",\"lemmatized\":\"tell\",\"verb\":{\"text\":\"tell\",\"tense\":\"present\"}},\"object\":{\"text\":\"him\",\"entities\":[{\"type\":\"Person\",\"text\":\"Fezzik\"}]}},{\"sentence\":\" On the day of the wedding, Inigo meets again with Fezzik, who tells him that Count Rugen is the six-fingered man who killed his father.\",\"subject\":{\"text\":\"Count Rugen\",\"entities\":[{\"type\":\"Person\",\"text\":\"Tyrone Rugen\"}]},\"action\":{\"text\":\"is\",\"lemmatized\":\"be\",\"verb\":{\"text\":\"be\",\"tense\":\"present\"}},\"object\":{\"text\":\"the six-fingered man who killed his father\",\"entities\":[{\"type\":\"Person\",\"text\":\"Tyrone Rugen\"}]}},{\"sentence\":\" On the day of the wedding, Inigo meets again with Fezzik, who tells him that Count Rugen is the six-fingered man who killed his father.\",\"subject\":{\"text\":\"the six-fingered man\",\"entities\":[{\"type\":\"Person\",\"text\":\"Tyrone Rugen\"}]},\"action\":{\"text\":\"killed\",\"lemmatized\":\"kill\",\"verb\":{\"text\":\"kill\",\"tense\":\"past\"}},\"object\":{\"text\":\"his father\"}},{\"sentence\":\" Knowing that Vizzini is dead, they seek out the man in black hoping that, if he could outsmart Vizzini, his wits will help them plan a successful attack on the castle to find and kill Count Rugen.\",\"subject\":{\"text\":\"they\"},\"action\":{\"text\":\"Knowing\",\"lemmatized\":\"Knowing\",\"verb\":{\"text\":\"Knowing\",\"tense\":\"present\"}},\"object\":{\"text\":\"that Vizzini is dead\",\"entities\":[{\"type\":\"Person\",\"text\":\"Vizzini\"}]}},{\"sentence\":\" Knowing that Vizzini is dead, they seek out the man in black hoping that, if he could outsmart Vizzini, his wits will help them plan a successful attack on the castle to find and kill Count Rugen.\",\"subject\":{\"text\":\"he\"},\"action\":{\"text\":\"could outsmart\",\"lemmatized\":\"could outsmart\",\"verb\":{\"text\":\"outsmart\",\"tense\":\"future\"}},\"object\":{\"text\":\"Vizzini\",\"entities\":[{\"type\":\"Person\",\"text\":\"Vizzini\"}]}},{\"sentence\":\" Knowing that Vizzini is dead, they seek out the man in black hoping that, if he could outsmart Vizzini, his wits will help them plan a successful attack on the castle to find and kill Count Rugen.\",\"subject\":{\"text\":\"his wits\"},\"action\":{\"text\":\"will help\",\"lemmatized\":\"will help\",\"verb\":{\"text\":\"help\",\"tense\":\"future\"}},\"object\":{\"text\":\"them plan a successful attack on the castle to find and kill Count Rugen\",\"entities\":[{\"type\":\"GeographicFeature\",\"text\":\"Tyrone Rugen\"}]}},{\"sentence\":\" Buttercup learns that Humperdinck never sent any ships, and taunts him with her enduring love for Westley.\",\"subject\":{\"text\":\"Buttercup\",\"entities\":[{\"type\":\"Person\",\"text\":\"Fezzik\\xe2\\x80\\x94kidnap Buttercup\"}]},\"action\":{\"text\":\"learns\",\"lemmatized\":\"learn\",\"verb\":{\"text\":\"learn\",\"tense\":\"present\"}},\"object\":{\"text\":\"that Humperdinck never sent any ships\",\"entities\":[{\"type\":\"Person\",\"text\":\"Prince Humperdinck\"}]}},{\"sentence\":\" Buttercup learns that Humperdinck never sent any ships, and taunts him with her enduring love for Westley.\",\"subject\":{\"text\":\"Humperdinck\",\"entities\":[{\"type\":\"Person\",\"text\":\"Prince Humperdinck\"}]},\"action\":{\"text\":\"sent\",\"lemmatized\":\"send\",\"verb\":{\"text\":\"send\",\"tense\":\"past\"}},\"object\":{\"text\":\"any ships\"}},{\"sentence\":\" Buttercup learns that Humperdinck never sent any ships, and taunts him with her enduring love for Westley.\",\"subject\":{\"text\":\"Buttercup\",\"entities\":[{\"type\":\"Person\",\"text\":\"Fezzik\\xe2\\x80\\x94kidnap Buttercup\"}]},\"action\":{\"text\":\"taunts\",\"lemmatized\":\"taunt\",\"verb\":{\"text\":\"taunt\",\"tense\":\"present\"}},\"object\":{\"text\":\"him\",\"entities\":[{\"type\":\"Person\",\"text\":\"Prince Humperdinck\"}]}},{\"sentence\":\" Westley\\'s death screams echo across the land, drawing Inigo and Fezzik to the Zoo of Death and down through its many dangerous levels.\",\"subject\":{\"text\":\"Westley\",\"entities\":[{\"type\":\"Person\",\"text\":\"Westley\"}]},\"action\":{\"text\":\"echo\",\"lemmatized\":\"echo\",\"verb\":{\"text\":\"echo\",\"tense\":\"present\"}},\"location\":{\"text\":\"across the land\"}},{\"sentence\":\" Westley\\'s death screams echo across the land, drawing Inigo and Fezzik to the Zoo of Death and down through its many dangerous levels.\",\"subject\":{\"text\":\"Westley\",\"entities\":[{\"type\":\"Person\",\"text\":\"Westley\"}]},\"action\":{\"text\":\"drawing\",\"lemmatized\":\"draw\",\"verb\":{\"text\":\"draw\",\"tense\":\"present\"}},\"object\":{\"text\":\"Inigo and Fezzik\",\"entities\":[{\"type\":\"Person\",\"text\":\"Inigo Montoya\"},{\"type\":\"Person\",\"text\":\"Fezzik\"}]}},{\"sentence\":\" Finding Westley\\'s body, they enlist the help of the King of Florin\\'s former \\\\\"miracle man\\\\\", a magician named Miracle Max who was fired by Humperdinck.\",\"subject\":{\"text\":\"they\"},\"action\":{\"text\":\"Finding\",\"lemmatized\":\"Finding\",\"verb\":{\"text\":\"Finding\",\"tense\":\"present\"}},\"object\":{\"text\":\"Westley\\'s body\",\"entities\":[{\"type\":\"Person\",\"text\":\"Westley\"}]}},{\"sentence\":\" Max pronounces Westley to be merely \\\\\"mostly dead\\\\\", and returns him to life (out of a desire to get back at Humperdinck), though Westley remains partially paralyzed and weak.\",\"subject\":{\"text\":\"Max\",\"entities\":[{\"type\":\"Person\",\"text\":\"Miracle Max\"}]},\"action\":{\"text\":\"pronounces\",\"lemmatized\":\"pronounce\",\"verb\":{\"text\":\"pronounce\",\"tense\":\"present\"}},\"object\":{\"text\":\"Westley\",\"entities\":[{\"type\":\"Person\",\"text\":\"Westley\"}]}},{\"sentence\":\" Westley devises a successful plan to invade the castle during the wedding, and the following commotion prompts Humperdinck to cut the wedding short.\",\"subject\":{\"text\":\"Westley\",\"entities\":[{\"type\":\"Person\",\"text\":\"Westley\"}]},\"action\":{\"text\":\"devises\",\"lemmatized\":\"devise\",\"verb\":{\"text\":\"devise\",\"tense\":\"present\"}},\"object\":{\"text\":\"a successful plan to invade the castle during the wedding, and the following commotion prompts Humperdinck to cut the wedding short\",\"entities\":[{\"type\":\"Person\",\"text\":\"Prince Humperdinck\"}]}},{\"sentence\":\" Buttercup decides to commit suicide when she reaches the honeymoon suite.\",\"subject\":{\"text\":\"Buttercup\",\"entities\":[{\"type\":\"Person\",\"text\":\"Fezzik\\xe2\\x80\\x94kidnap Buttercup\"}]},\"action\":{\"text\":\"decides\",\"lemmatized\":\"decide\",\"verb\":{\"text\":\"decide\",\"tense\":\"present\"}},\"object\":{\"text\":\"to commit suicide\"}},{\"sentence\":\" Buttercup decides to commit suicide when she reaches the honeymoon suite.\",\"subject\":{\"text\":\"Buttercup\",\"entities\":[{\"type\":\"Person\",\"text\":\"Fezzik\\xe2\\x80\\x94kidnap Buttercup\"}]},\"action\":{\"text\":\"decides to commit\",\"lemmatized\":\"decide to commit\",\"verb\":{\"text\":\"commit\",\"tense\":\"future\"}},\"object\":{\"text\":\"suicide\"}},{\"sentence\":\" Buttercup decides to commit suicide when she reaches the honeymoon suite.\",\"subject\":{\"text\":\"she\",\"entities\":[{\"type\":\"Person\",\"text\":\"Fezzik\\xe2\\x80\\x94kidnap Buttercup\"}]},\"action\":{\"text\":\"reaches\",\"lemmatized\":\"reach\",\"verb\":{\"text\":\"reach\",\"tense\":\"present\"}},\"object\":{\"text\":\"the honeymoon suite\"}},{\"sentence\":\" Inigo pursues Rugen through the castle, and, reciting aloud his long-rehearsed oath of vengeance (\\\\\"Hello.\",\"subject\":{\"text\":\"Inigo\",\"entities\":[{\"type\":\"Person\",\"text\":\"Inigo Montoya\"}]},\"action\":{\"text\":\"pursues\",\"lemmatized\":\"pursue\",\"verb\":{\"text\":\"pursue\",\"tense\":\"present\"}},\"object\":{\"text\":\"Rugen\",\"entities\":[{\"type\":\"Person\",\"text\":\"Tyrone Rugen\"}]}},{\"sentence\":\" Inigo pursues Rugen through the castle, and, reciting aloud his long-rehearsed oath of vengeance (\\\\\"Hello.\",\"subject\":{\"text\":\"Inigo\",\"entities\":[{\"type\":\"Person\",\"text\":\"Inigo Montoya\"}]},\"action\":{\"text\":\"reciting\",\"lemmatized\":\"recite\",\"verb\":{\"text\":\"recite\",\"tense\":\"present\"}},\"object\":{\"text\":\"of vengeance (\\\\\"Hello\"}},{\"sentence\":\" My name is Inigo Montoya.\",\"subject\":{\"text\":\"My name\",\"entities\":[{\"type\":\"Person\",\"text\":\"Inigo Montoya\"}]},\"action\":{\"text\":\"is\",\"lemmatized\":\"be\",\"verb\":{\"text\":\"be\",\"tense\":\"present\"}},\"object\":{\"text\":\"Inigo Montoya\",\"entities\":[{\"type\":\"Person\",\"text\":\"Inigo Montoya\"}]}},{\"sentence\":\" Westley reaches Buttercup before she commits suicide.\",\"subject\":{\"text\":\"Westley\",\"entities\":[{\"type\":\"Person\",\"text\":\"Westley\"}]},\"action\":{\"text\":\"reaches\",\"lemmatized\":\"reach\",\"verb\":{\"text\":\"reach\",\"tense\":\"present\"}},\"object\":{\"text\":\"Buttercup\",\"entities\":[{\"type\":\"Person\",\"text\":\"Fezzik\\xe2\\x80\\x94kidnap Buttercup\"}]}},{\"sentence\":\" Westley reaches Buttercup before she commits suicide.\",\"subject\":{\"text\":\"she\",\"entities\":[{\"type\":\"Person\",\"text\":\"Fezzik\\xe2\\x80\\x94kidnap Buttercup\"}]},\"action\":{\"text\":\"commits\",\"lemmatized\":\"commit\",\"verb\":{\"text\":\"commit\",\"tense\":\"present\"}},\"object\":{\"text\":\"suicide\"}},{\"sentence\":\" Still partially paralyzed, he bluffs his way out of a sword fight with Humperdinck, who shows himself to be a coward.\",\"subject\":{\"text\":\"himself\",\"entities\":[{\"type\":\"Person\",\"text\":\"Prince Humperdinck\"}]},\"action\":{\"text\":\"to be\",\"lemmatized\":\"to be\",\"verb\":{\"text\":\"be\",\"tense\":\"future\"}},\"object\":{\"text\":\"a coward\"}},{\"sentence\":\" Instead of killing his rival, Westley decides to leave him alive for a long, miserable life with his obvious cowardice as his only companion.\",\"subject\":{\"text\":\"Westley\",\"entities\":[{\"type\":\"Person\",\"text\":\"Westley\"}]},\"action\":{\"text\":\"killing\",\"lemmatized\":\"kill\",\"verb\":{\"text\":\"kill\",\"tense\":\"future\"}},\"object\":{\"text\":\"his rival\"}},{\"sentence\":\" Instead of killing his rival, Westley decides to leave him alive for a long, miserable life with his obvious cowardice as his only companion.\",\"subject\":{\"text\":\"Westley\",\"entities\":[{\"type\":\"Person\",\"text\":\"Westley\"}]},\"action\":{\"text\":\"decides\",\"lemmatized\":\"decide\",\"verb\":{\"text\":\"decide\",\"tense\":\"present\"}},\"object\":{\"text\":\"to leave him alive for a long, miserable life with his obvious cowardice as his only companion\"}},{\"sentence\":\" Instead of killing his rival, Westley decides to leave him alive for a long, miserable life with his obvious cowardice as his only companion.\",\"subject\":{\"text\":\"Westley\",\"entities\":[{\"type\":\"Person\",\"text\":\"Westley\"}]},\"action\":{\"text\":\"decides to leave\",\"lemmatized\":\"decide to leave\",\"verb\":{\"text\":\"leave\",\"tense\":\"future\"}},\"object\":{\"text\":\"him\"}},{\"sentence\":\" The party then rides off into the sunset on four of the prince\\'s purebred white horses which Fezzik had conveniently discovered.\",\"subject\":{\"text\":\"Fezzik\",\"entities\":[{\"type\":\"Person\",\"text\":\"Fezzik\"}]},\"action\":{\"text\":\"discovered\",\"lemmatized\":\"discover\",\"verb\":{\"text\":\"discover\",\"tense\":\"past\"}},\"object\":{\"text\":\"the prince\\'s purebred white horses\"}}],\"rel_people\":[{\"subjects\":[\"Fezzik\\xe2\\x80\\x94kidnap Buttercup\"],\"objects\":[],\"both\":[\"Fezzik\\xe2\\x80\\x94kidnap Buttercup\"]},{\"subjects\":[\"Fezzik\\xe2\\x80\\x94kidnap Buttercup\"],\"objects\":[\"Westley\",\"Westley\"],\"both\":[\"Fezzik\\xe2\\x80\\x94kidnap Buttercup\",\"Westley\",\"Westley\"]},{\"subjects\":[\"Westley\"],\"objects\":[],\"both\":[\"Westley\"]},{\"subjects\":[\"Westley\"],\"objects\":[],\"both\":[\"Westley\"]},{\"subjects\":[\"Fezzik\\xe2\\x80\\x94kidnap Buttercup\"],\"objects\":[\"Fezzik\\xe2\\x80\\x94kidnap Buttercup\"],\"both\":[\"Fezzik\\xe2\\x80\\x94kidnap Buttercup\",\"Fezzik\\xe2\\x80\\x94kidnap Buttercup\"]},{\"subjects\":[\"Fezzik\\xe2\\x80\\x94kidnap Buttercup\"],\"objects\":[],\"both\":[\"Fezzik\\xe2\\x80\\x94kidnap Buttercup\"]},{\"subjects\":[\"Westley\"],\"objects\":[],\"both\":[\"Westley\"]},{\"subjects\":[\"Fezzik\\xe2\\x80\\x94kidnap Buttercup\"],\"objects\":[],\"both\":[\"Fezzik\\xe2\\x80\\x94kidnap Buttercup\"]},{\"subjects\":[\"Roberts\"],\"objects\":[\"Roberts\"],\"both\":[\"Roberts\",\"Roberts\"]},{\"subjects\":[\"Roberts\"],\"objects\":[],\"both\":[\"Roberts\"]},{\"subjects\":[\"Roberts\"],\"objects\":[],\"both\":[\"Roberts\"]},{\"subjects\":[\"Fezzik\\xe2\\x80\\x94kidnap Buttercup\"],\"objects\":[\"Westley\"],\"both\":[\"Fezzik\\xe2\\x80\\x94kidnap Buttercup\",\"Westley\"]},{\"subjects\":[\"Fezzik\\xe2\\x80\\x94kidnap Buttercup\"],\"objects\":[],\"both\":[\"Fezzik\\xe2\\x80\\x94kidnap Buttercup\"]},{\"subjects\":[\"Fezzik\\xe2\\x80\\x94kidnap Buttercup\"],\"objects\":[],\"both\":[\"Fezzik\\xe2\\x80\\x94kidnap Buttercup\"]},{\"subjects\":[\"Fezzik\\xe2\\x80\\x94kidnap Buttercup\"],\"objects\":[],\"both\":[\"Fezzik\\xe2\\x80\\x94kidnap Buttercup\"]},{\"subjects\":[],\"objects\":[\"Prince Humperdinck\"],\"both\":[\"Prince Humperdinck\"]},{\"subjects\":[\"Prince Humperdinck\"],\"objects\":[],\"both\":[\"Prince Humperdinck\"]},{\"subjects\":[],\"objects\":[\"Prince Humperdinck\"],\"both\":[\"Prince Humperdinck\"]},{\"subjects\":[],\"objects\":[\"Prince Humperdinck\"],\"both\":[\"Prince Humperdinck\"]},{\"subjects\":[\"Vizzini\",\"Inigo Montoya\"],\"objects\":[\"Inigo Montoya\"],\"both\":[\"Vizzini\",\"Inigo Montoya\",\"Inigo Montoya\"]},{\"subjects\":[],\"objects\":[\"Inigo Montoya\"],\"both\":[\"Inigo Montoya\"]},{\"subjects\":[\"Inigo Montoya\"],\"objects\":[],\"both\":[\"Inigo Montoya\"]},{\"subjects\":[\"Fezzik\"],\"objects\":[],\"both\":[\"Fezzik\"]},{\"subjects\":[\"Fezzik\"],\"objects\":[],\"both\":[\"Fezzik\"]},{\"subjects\":[],\"objects\":[\"Fezzik\"],\"both\":[\"Fezzik\"]},{\"subjects\":[\"Fezzik\"],\"objects\":[],\"both\":[\"Fezzik\"]},{\"subjects\":[\"Fezzik\"],\"objects\":[],\"both\":[\"Fezzik\"]},{\"subjects\":[\"Fezzik\"],\"objects\":[\"Vizzini\",\"Vizzini\",\"Vizzini\"],\"both\":[\"Fezzik\",\"Vizzini\",\"Vizzini\",\"Vizzini\"]},{\"subjects\":[\"Vizzini\"],\"objects\":[\"Vizzini\"],\"both\":[\"Vizzini\",\"Vizzini\"]},{\"subjects\":[],\"objects\":[\"Fezzik\\xe2\\x80\\x94kidnap Buttercup\"],\"both\":[\"Fezzik\\xe2\\x80\\x94kidnap Buttercup\"]},{\"subjects\":[\"Fezzik\\xe2\\x80\\x94kidnap Buttercup\"],\"objects\":[\"Fezzik\\xe2\\x80\\x94kidnap Buttercup\"],\"both\":[\"Fezzik\\xe2\\x80\\x94kidnap Buttercup\",\"Fezzik\\xe2\\x80\\x94kidnap Buttercup\"]},{\"subjects\":[\"Fezzik\\xe2\\x80\\x94kidnap Buttercup\"],\"objects\":[],\"both\":[\"Fezzik\\xe2\\x80\\x94kidnap Buttercup\"]},{\"subjects\":[\"Fezzik\\xe2\\x80\\x94kidnap Buttercup\"],\"objects\":[],\"both\":[\"Fezzik\\xe2\\x80\\x94kidnap Buttercup\"]},{\"subjects\":[\"Fezzik\\xe2\\x80\\x94kidnap Buttercup\"],\"objects\":[],\"both\":[\"Fezzik\\xe2\\x80\\x94kidnap Buttercup\"]},{\"subjects\":[\"Fezzik\\xe2\\x80\\x94kidnap Buttercup\"],\"objects\":[\"Westley\"],\"both\":[\"Fezzik\\xe2\\x80\\x94kidnap Buttercup\",\"Westley\"]},{\"subjects\":[\"Fezzik\\xe2\\x80\\x94kidnap Buttercup\"],\"objects\":[],\"both\":[\"Fezzik\\xe2\\x80\\x94kidnap Buttercup\"]},{\"subjects\":[\"Fezzik\\xe2\\x80\\x94kidnap Buttercup\"],\"objects\":[],\"both\":[\"Fezzik\\xe2\\x80\\x94kidnap Buttercup\"]},{\"subjects\":[\"Westley\"],\"objects\":[\"Fezzik\\xe2\\x80\\x94kidnap Buttercup\"],\"both\":[\"Westley\",\"Fezzik\\xe2\\x80\\x94kidnap Buttercup\"]},{\"subjects\":[\"Roberts\"],\"objects\":[],\"both\":[\"Roberts\"]},{\"subjects\":[\"Roberts\"],\"objects\":[],\"both\":[\"Roberts\"]},{\"subjects\":[\"Roberts\"],\"objects\":[],\"both\":[\"Roberts\"]},{\"subjects\":[\"Roberts\"],\"objects\":[\"Fezzik\\xe2\\x80\\x94kidnap Buttercup\"],\"both\":[\"Roberts\",\"Fezzik\\xe2\\x80\\x94kidnap Buttercup\"]},{\"subjects\":[\"Westley\"],\"objects\":[\"Roberts\",\"Westley\"],\"both\":[\"Westley\",\"Roberts\",\"Westley\"]},{\"subjects\":[\"Westley\"],\"objects\":[],\"both\":[\"Westley\"]},{\"subjects\":[\"Roberts\"],\"objects\":[],\"both\":[\"Roberts\"]},{\"subjects\":[\"Westley\",\"Fezzik\\xe2\\x80\\x94kidnap Buttercup\"],\"objects\":[],\"both\":[\"Westley\",\"Fezzik\\xe2\\x80\\x94kidnap Buttercup\"]},{\"subjects\":[\"Prince Humperdinck\",\"Tyrone Rugen\"],\"objects\":[],\"both\":[\"Prince Humperdinck\",\"Tyrone Rugen\"]},{\"subjects\":[\"Prince Humperdinck\"],\"objects\":[],\"both\":[\"Prince Humperdinck\"]},{\"subjects\":[\"Prince Humperdinck\"],\"objects\":[\"Westley\"],\"both\":[\"Prince Humperdinck\",\"Westley\"]},{\"subjects\":[\"Prince Humperdinck\"],\"objects\":[],\"both\":[\"Prince Humperdinck\"]},{\"subjects\":[\"Fezzik\\xe2\\x80\\x94kidnap Buttercup\"],\"objects\":[],\"both\":[\"Fezzik\\xe2\\x80\\x94kidnap Buttercup\"]},{\"subjects\":[\"Fezzik\\xe2\\x80\\x94kidnap Buttercup\"],\"objects\":[],\"both\":[\"Fezzik\\xe2\\x80\\x94kidnap Buttercup\"]},{\"subjects\":[\"Prince Humperdinck\"],\"objects\":[\"Prince Humperdinck\",\"Westley\"],\"both\":[\"Prince Humperdinck\",\"Prince Humperdinck\",\"Westley\"]},{\"subjects\":[\"Prince Humperdinck\"],\"objects\":[],\"both\":[\"Prince Humperdinck\"]},{\"subjects\":[\"Westley\"],\"objects\":[],\"both\":[\"Westley\"]},{\"subjects\":[],\"objects\":[\"Prince Humperdinck\"],\"both\":[\"Prince Humperdinck\"]},{\"subjects\":[],\"objects\":[\"Prince Humperdinck\"],\"both\":[\"Prince Humperdinck\"]},{\"subjects\":[],\"objects\":[\"Prince Humperdinck\",\"Prince Humperdinck\",\"Fezzik\\xe2\\x80\\x94kidnap Buttercup\",\"Prince Humperdinck\",\"Fezzik\\xe2\\x80\\x94kidnap Buttercup\"],\"both\":[\"Prince Humperdinck\",\"Prince Humperdinck\",\"Fezzik\\xe2\\x80\\x94kidnap Buttercup\",\"Prince Humperdinck\",\"Fezzik\\xe2\\x80\\x94kidnap Buttercup\"]},{\"subjects\":[\"Prince Humperdinck\"],\"objects\":[\"Fezzik\\xe2\\x80\\x94kidnap Buttercup\"],\"both\":[\"Prince Humperdinck\",\"Fezzik\\xe2\\x80\\x94kidnap Buttercup\"]},{\"subjects\":[\"Prince Humperdinck\"],\"objects\":[\"Fezzik\\xe2\\x80\\x94kidnap Buttercup\"],\"both\":[\"Prince Humperdinck\",\"Fezzik\\xe2\\x80\\x94kidnap Buttercup\"]},{\"subjects\":[\"Inigo Montoya\"],\"objects\":[\"Fezzik\"],\"both\":[\"Inigo Montoya\",\"Fezzik\"]},{\"subjects\":[\"Tyrone Rugen\",\"Tyrone Rugen\"],\"objects\":[\"Fezzik\"],\"both\":[\"Tyrone Rugen\",\"Tyrone Rugen\",\"Fezzik\"]},{\"subjects\":[\"Tyrone Rugen\"],\"objects\":[\"Tyrone Rugen\"],\"both\":[\"Tyrone Rugen\",\"Tyrone Rugen\"]},{\"subjects\":[\"Tyrone Rugen\"],\"objects\":[],\"both\":[\"Tyrone Rugen\"]},{\"subjects\":[],\"objects\":[\"Vizzini\"],\"both\":[\"Vizzini\"]},{\"subjects\":[],\"objects\":[\"Vizzini\"],\"both\":[\"Vizzini\"]},{\"subjects\":[],\"objects\":[],\"both\":[]},{\"subjects\":[\"Fezzik\\xe2\\x80\\x94kidnap Buttercup\"],\"objects\":[\"Prince Humperdinck\"],\"both\":[\"Fezzik\\xe2\\x80\\x94kidnap Buttercup\",\"Prince Humperdinck\"]},{\"subjects\":[\"Prince Humperdinck\"],\"objects\":[],\"both\":[\"Prince Humperdinck\"]},{\"subjects\":[\"Fezzik\\xe2\\x80\\x94kidnap Buttercup\"],\"objects\":[\"Prince Humperdinck\"],\"both\":[\"Fezzik\\xe2\\x80\\x94kidnap Buttercup\",\"Prince Humperdinck\"]},{\"subjects\":[\"Westley\"],\"objects\":[],\"both\":[\"Westley\"]},{\"subjects\":[\"Westley\"],\"objects\":[\"Inigo Montoya\",\"Fezzik\"],\"both\":[\"Westley\",\"Inigo Montoya\",\"Fezzik\"]},{\"subjects\":[],\"objects\":[\"Westley\"],\"both\":[\"Westley\"]},{\"subjects\":[\"Miracle Max\"],\"objects\":[\"Westley\"],\"both\":[\"Miracle Max\",\"Westley\"]},{\"subjects\":[\"Westley\"],\"objects\":[\"Prince Humperdinck\"],\"both\":[\"Westley\",\"Prince Humperdinck\"]},{\"subjects\":[\"Fezzik\\xe2\\x80\\x94kidnap Buttercup\"],\"objects\":[],\"both\":[\"Fezzik\\xe2\\x80\\x94kidnap Buttercup\"]},{\"subjects\":[\"Fezzik\\xe2\\x80\\x94kidnap Buttercup\"],\"objects\":[],\"both\":[\"Fezzik\\xe2\\x80\\x94kidnap Buttercup\"]},{\"subjects\":[\"Fezzik\\xe2\\x80\\x94kidnap Buttercup\"],\"objects\":[],\"both\":[\"Fezzik\\xe2\\x80\\x94kidnap Buttercup\"]},{\"subjects\":[\"Inigo Montoya\"],\"objects\":[\"Tyrone Rugen\"],\"both\":[\"Inigo Montoya\",\"Tyrone Rugen\"]},{\"subjects\":[\"Inigo Montoya\"],\"objects\":[],\"both\":[\"Inigo Montoya\"]},{\"subjects\":[\"Inigo Montoya\"],\"objects\":[\"Inigo Montoya\"],\"both\":[\"Inigo Montoya\",\"Inigo Montoya\"]},{\"subjects\":[\"Westley\"],\"objects\":[\"Fezzik\\xe2\\x80\\x94kidnap Buttercup\"],\"both\":[\"Westley\",\"Fezzik\\xe2\\x80\\x94kidnap Buttercup\"]},{\"subjects\":[\"Fezzik\\xe2\\x80\\x94kidnap Buttercup\"],\"objects\":[],\"both\":[\"Fezzik\\xe2\\x80\\x94kidnap Buttercup\"]},{\"subjects\":[\"Prince Humperdinck\"],\"objects\":[],\"both\":[\"Prince Humperdinck\"]},{\"subjects\":[\"Westley\"],\"objects\":[],\"both\":[\"Westley\"]},{\"subjects\":[\"Westley\"],\"objects\":[],\"both\":[\"Westley\"]},{\"subjects\":[\"Westley\"],\"objects\":[],\"both\":[\"Westley\"]},{\"subjects\":[\"Fezzik\"],\"objects\":[],\"both\":[\"Fezzik\"]}]}'"
       ]
      }
     ],
     "prompt_number": 5
    },
    {
     "cell_type": "code",
     "collapsed": false,
     "input": [
      "brideDict = json.loads(data)"
     ],
     "language": "python",
     "metadata": {},
     "outputs": [],
     "prompt_number": 6
    },
    {
     "cell_type": "code",
     "collapsed": false,
     "input": [
      "brideDict.keys()"
     ],
     "language": "python",
     "metadata": {},
     "outputs": [
      {
       "metadata": {},
       "output_type": "pyout",
       "prompt_number": 8,
       "text": [
        "[u'people_array', u'people', u'rel_people', u'relations', u'sentences']"
       ]
      }
     ],
     "prompt_number": 8
    },
    {
     "cell_type": "code",
     "collapsed": false,
     "input": [
      "codeDict = {}"
     ],
     "language": "python",
     "metadata": {},
     "outputs": [],
     "prompt_number": 113
    },
    {
     "cell_type": "code",
     "collapsed": false,
     "input": [
      "codeDict['people_array'] = ['102','8']"
     ],
     "language": "python",
     "metadata": {},
     "outputs": [],
     "prompt_number": 114
    },
    {
     "cell_type": "code",
     "collapsed": false,
     "input": [
      "stud1Dict = {}\n",
      "stud1Dict['text'] = '102'\n",
      "stud1Dict['type'] = 'solution'\n",
      "stud2Dict = {}\n",
      "stud2Dict['text'] = '8'\n",
      "stud2Dict['type'] = 'solution'"
     ],
     "language": "python",
     "metadata": {},
     "outputs": [],
     "prompt_number": 115
    },
    {
     "cell_type": "code",
     "collapsed": false,
     "input": [
      "\n"
     ],
     "language": "python",
     "metadata": {},
     "outputs": [],
     "prompt_number": 116
    },
    {
     "cell_type": "code",
     "collapsed": false,
     "input": [
      "\n"
     ],
     "language": "python",
     "metadata": {},
     "outputs": [],
     "prompt_number": 117
    },
    {
     "cell_type": "code",
     "collapsed": false,
     "input": [
      "codeDict['sentences'] = []\n",
      "\n",
      "sentenceDict = {}\n",
      "sentenceDict['relations'] = [0]\n",
      "sentenceDict['sentence'] = 'def getGuessedWord(secretWord, lettersGuessed):'\n",
      "\n",
      "codeDict['sentences'].append(sentenceDict)\n",
      "\n",
      "sentenceDict = {}\n",
      "#sentenceDict['relations'] = [1]\n",
      "#sentenceDict['sentence'] = \"output = '' | guessedWord = ''\"\n",
      "sentenceDict['relations'] = [1]\n",
      "sentenceDict['sentence'] = \"output = ''\" # | guessedWord = ''\"\n",
      "\n",
      "codeDict['sentences'].append(sentenceDict)\n",
      "\n",
      "sentenceDict = {}\n",
      "\n",
      "sentenceDict['relations'] = [2]\n",
      "sentenceDict['sentence'] = \"guessedWord = ''\"\n",
      "\n",
      "codeDict['sentences'].append(sentenceDict)\n"
     ],
     "language": "python",
     "metadata": {},
     "outputs": [],
     "prompt_number": 144
    },
    {
     "cell_type": "code",
     "collapsed": false,
     "input": [
      "codeDict['sentences']"
     ],
     "language": "python",
     "metadata": {},
     "outputs": [
      {
       "metadata": {},
       "output_type": "pyout",
       "prompt_number": 145,
       "text": [
        "[{'relations': [0],\n",
        "  'sentence': 'def getGuessedWord(secretWord, lettersGuessed):'},\n",
        " {'relations': [1], 'sentence': \"output = ''\"},\n",
        " {'relations': [2], 'sentence': \"guessedWord = ''\"}]"
       ]
      }
     ],
     "prompt_number": 145
    },
    {
     "cell_type": "code",
     "collapsed": false,
     "input": [
      "codeDict['relations'] = []\n",
      "\n",
      "for i in range(1):\n",
      "    relationDict = {}\n",
      "    \n",
      "    subjectDict = {}\n",
      "    subjectDict['text'] = ''\n",
      "    \n",
      "    subjectDict['entities'] = []\n",
      "    subjectDict['entities'].append(stud1Dict)\n",
      "    subjectDict['entities'].append(stud2Dict)\n",
      "    \n",
      "    relationDict['subject'] = subjectDict\n",
      "    \n",
      "    relationDict['sentence'] = '' # sentenceDict['sentence']\n",
      "    \n",
      "    relationDict['action'] = {'text':''}\n",
      "    \n",
      "    codeDict['relations'].append(relationDict)\n",
      "for i in range(1):\n",
      "    relationDict = {}\n",
      "    \n",
      "    subjectDict = {}\n",
      "    subjectDict['text'] = ''\n",
      "    \n",
      "    subjectDict['entities'] = []\n",
      "    subjectDict['entities'].append(stud1Dict)\n",
      "    #subjectDict['entities'].append(stud2Dict)\n",
      "    \n",
      "    relationDict['subject'] = subjectDict\n",
      "    \n",
      "    relationDict['sentence'] = '' # sentenceDict['sentence']\n",
      "    \n",
      "    relationDict['action'] = {'text':''}\n",
      "    \n",
      "    codeDict['relations'].append(relationDict)\n",
      "for i in range(1):\n",
      "    relationDict = {}\n",
      "    \n",
      "    subjectDict = {}\n",
      "    subjectDict['text'] = ''\n",
      "    \n",
      "    subjectDict['entities'] = []\n",
      "    #subjectDict['entities'].append(stud1Dict)\n",
      "    subjectDict['entities'].append(stud2Dict)\n",
      "    \n",
      "    relationDict['subject'] = subjectDict\n",
      "    \n",
      "    relationDict['sentence'] = '' # sentenceDict['sentence']\n",
      "    \n",
      "    relationDict['action'] = {'text':''}\n",
      "    \n",
      "    codeDict['relations'].append(relationDict)"
     ],
     "language": "python",
     "metadata": {},
     "outputs": [],
     "prompt_number": 136
    },
    {
     "cell_type": "code",
     "collapsed": false,
     "input": [
      "codeDict['relations']"
     ],
     "language": "python",
     "metadata": {},
     "outputs": [
      {
       "metadata": {},
       "output_type": "pyout",
       "prompt_number": 137,
       "text": [
        "[{'action': {'text': ''},\n",
        "  'sentence': '',\n",
        "  'subject': {'entities': [{'text': '102', 'type': 'solution'},\n",
        "    {'text': '8', 'type': 'solution'}],\n",
        "   'text': ''}},\n",
        " {'action': {'text': ''},\n",
        "  'sentence': '',\n",
        "  'subject': {'entities': [{'text': '102', 'type': 'solution'}], 'text': ''}},\n",
        " {'action': {'text': ''},\n",
        "  'sentence': '',\n",
        "  'subject': {'entities': [{'text': '8', 'type': 'solution'}], 'text': ''}}]"
       ]
      }
     ],
     "prompt_number": 137
    },
    {
     "cell_type": "code",
     "collapsed": false,
     "input": [],
     "language": "python",
     "metadata": {},
     "outputs": [],
     "prompt_number": 101
    },
    {
     "cell_type": "code",
     "collapsed": false,
     "input": [
      "codeDict.keys()"
     ],
     "language": "python",
     "metadata": {},
     "outputs": [
      {
       "metadata": {},
       "output_type": "pyout",
       "prompt_number": 130,
       "text": [
        "['sentences', 'people', 'rel_people', 'relations', 'people_array']"
       ]
      }
     ],
     "prompt_number": 130
    },
    {
     "cell_type": "code",
     "collapsed": false,
     "input": [
      "codeDict['people'] ={}\n",
      "#codeDict['people']['102'] = {'subjects':[0]}\n",
      "#codeDict['people']['8'] = {'subjects':[0]}\n",
      "\n",
      "#codeDict['people']['102'] = {'subjects':[0,1]}\n",
      "#codeDict['people']['8'] = {'subjects':[0,1]}\n",
      "\n",
      "codeDict['people']['102'] = {'subjects':[0,1]}\n",
      "codeDict['people']['8'] = {'subjects':[0,2]}"
     ],
     "language": "python",
     "metadata": {},
     "outputs": [],
     "prompt_number": 140
    },
    {
     "cell_type": "code",
     "collapsed": false,
     "input": [
      "codeDict['rel_people'] = []\n",
      "codeDict['rel_people'].append({'both':['102','8'],'objects' : [],'subjects':['102','8']})\n",
      "\n",
      "#codeDict['rel_people'].append({'both':['102','8'],'objects' : [],'subjects':['102','8']})\n",
      "codeDict['rel_people'].append({'both':['102'],'objects' : [],'subjects':['102']})\n",
      "codeDict['rel_people'].append({'both':['8'],'objects' : [],'subjects':['8']})"
     ],
     "language": "python",
     "metadata": {},
     "outputs": [],
     "prompt_number": 139
    },
    {
     "cell_type": "code",
     "collapsed": false,
     "input": [
      "codeDict.keys()"
     ],
     "language": "python",
     "metadata": {},
     "outputs": [
      {
       "metadata": {},
       "output_type": "pyout",
       "prompt_number": 126,
       "text": [
        "['sentences', 'people', 'rel_people', 'relations', 'people_array']"
       ]
      }
     ],
     "prompt_number": 126
    },
    {
     "cell_type": "code",
     "collapsed": false,
     "input": [
      "codeDict['sentences']"
     ],
     "language": "python",
     "metadata": {},
     "outputs": [
      {
       "metadata": {},
       "output_type": "pyout",
       "prompt_number": 131,
       "text": [
        "[{'relations': [0],\n",
        "  'sentence': 'def getGuessedWord(secretWord, lettersGuessed):'},\n",
        " {'relations': [1], 'sentence': \"output = '' | guessedWord = ''\"}]"
       ]
      }
     ],
     "prompt_number": 131
    },
    {
     "cell_type": "code",
     "collapsed": false,
     "input": [
      "brideDict.keys()"
     ],
     "language": "python",
     "metadata": {},
     "outputs": [
      {
       "metadata": {},
       "output_type": "pyout",
       "prompt_number": 90,
       "text": [
        "[u'people_array', u'people', u'rel_people', u'relations', u'sentences']"
       ]
      }
     ],
     "prompt_number": 90
    },
    {
     "cell_type": "code",
     "collapsed": false,
     "input": [
      "type(brideDict['relations'])"
     ],
     "language": "python",
     "metadata": {},
     "outputs": [
      {
       "metadata": {},
       "output_type": "pyout",
       "prompt_number": 120,
       "text": [
        "list"
       ]
      }
     ],
     "prompt_number": 120
    },
    {
     "cell_type": "code",
     "collapsed": false,
     "input": [
      "json.dump(codeDict,open('mycode.json','w'))"
     ],
     "language": "python",
     "metadata": {},
     "outputs": [],
     "prompt_number": 146
    },
    {
     "cell_type": "code",
     "collapsed": false,
     "input": [
      "cat mycode.json"
     ],
     "language": "python",
     "metadata": {},
     "outputs": [
      {
       "output_type": "stream",
       "stream": "stdout",
       "text": [
        "{\"sentences\": [{\"relations\": [0], \"sentence\": \"def getGuessedWord(secretWord, lettersGuessed):\"}, {\"relations\": [1], \"sentence\": \"output = ''\"}, {\"relations\": [2], \"sentence\": \"guessedWord = ''\"}], \"people\": {\"102\": {\"subjects\": [0, 1]}, \"8\": {\"subjects\": [0, 2]}}, \"rel_people\": [{\"both\": [\"102\", \"8\"], \"objects\": [], \"subjects\": [\"102\", \"8\"]}, {\"both\": [\"102\"], \"objects\": [], \"subjects\": [\"102\"]}, {\"both\": [\"8\"], \"objects\": [], \"subjects\": [\"8\"]}], \"relations\": [{\"action\": {\"text\": \"\"}, \"sentence\": \"\", \"subject\": {\"text\": \"\", \"entities\": [{\"text\": \"102\", \"type\": \"solution\"}, {\"text\": \"8\", \"type\": \"solution\"}]}}, {\"action\": {\"text\": \"\"}, \"sentence\": \"\", \"subject\": {\"text\": \"\", \"entities\": [{\"text\": \"102\", \"type\": \"solution\"}]}}, {\"action\": {\"text\": \"\"}, \"sentence\": \"\", \"subject\": {\"text\": \"\", \"entities\": [{\"text\": \"8\", \"type\": \"solution\"}]}}], \"people_array\": [\"102\", \"8\"]}"
       ]
      }
     ],
     "prompt_number": 147
    },
    {
     "cell_type": "code",
     "collapsed": false,
     "input": [
      "brideDict['rel_people'][0:5]"
     ],
     "language": "python",
     "metadata": {},
     "outputs": [
      {
       "metadata": {},
       "output_type": "pyout",
       "prompt_number": 64,
       "text": [
        "[{u'both': [u'Fezzik\\u2014kidnap Buttercup'],\n",
        "  u'objects': [],\n",
        "  u'subjects': [u'Fezzik\\u2014kidnap Buttercup']},\n",
        " {u'both': [u'Fezzik\\u2014kidnap Buttercup', u'Westley', u'Westley'],\n",
        "  u'objects': [u'Westley', u'Westley'],\n",
        "  u'subjects': [u'Fezzik\\u2014kidnap Buttercup']},\n",
        " {u'both': [u'Westley'], u'objects': [], u'subjects': [u'Westley']},\n",
        " {u'both': [u'Westley'], u'objects': [], u'subjects': [u'Westley']},\n",
        " {u'both': [u'Fezzik\\u2014kidnap Buttercup', u'Fezzik\\u2014kidnap Buttercup'],\n",
        "  u'objects': [u'Fezzik\\u2014kidnap Buttercup'],\n",
        "  u'subjects': [u'Fezzik\\u2014kidnap Buttercup']}]"
       ]
      }
     ],
     "prompt_number": 64
    },
    {
     "cell_type": "code",
     "collapsed": false,
     "input": [],
     "language": "python",
     "metadata": {},
     "outputs": [],
     "prompt_number": 66
    },
    {
     "cell_type": "code",
     "collapsed": false,
     "input": [
      "brideDict['people']['Fezzik']"
     ],
     "language": "python",
     "metadata": {},
     "outputs": [
      {
       "metadata": {},
       "output_type": "pyout",
       "prompt_number": 56,
       "text": [
        "{u'objects': [24, 60, 61, 71], u'subjects': [22, 23, 25, 26, 27, 87]}"
       ]
      }
     ],
     "prompt_number": 56
    },
    {
     "cell_type": "code",
     "collapsed": false,
     "input": [
      "brideDict['sentences'][0]"
     ],
     "language": "python",
     "metadata": {},
     "outputs": [
      {
       "metadata": {},
       "output_type": "pyout",
       "prompt_number": 13,
       "text": [
        "{u'relations': [0],\n",
        " u'sentence': u' In a Renaissance-era world a beautiful young woman named Buttercup lives on a farm in the country of Florin.'}"
       ]
      }
     ],
     "prompt_number": 13
    },
    {
     "cell_type": "code",
     "collapsed": false,
     "input": [
      "for i in codeDict['relations']: #[0].keys()\n",
      "    #print i.keys()\n",
      "    print i.keys()\n",
      "    #print type(i['sentence'])\n",
      "    #print i['subject'].keys()\n",
      "    try:\n",
      "        print i['subject']['action']#['entities']\n",
      "    except:\n",
      "        print 'no action'\n",
      "        print i['subject']\n",
      "    try:\n",
      "        if 2== len(i['subject']['entities']): #.keys()\n",
      "            print i['subject']['entities']\n",
      "    except:\n",
      "        print 'no entities'\n",
      "        print i['subject']\n",
      "    break"
     ],
     "language": "python",
     "metadata": {},
     "outputs": [
      {
       "output_type": "stream",
       "stream": "stdout",
       "text": [
        "['subject', 'sentence']\n",
        "no action\n",
        "{'text': '', 'entities': [{'text': '102', 'type': 'solution'}, {'text': '8', 'type': 'solution'}]}\n",
        "[{'text': '102', 'type': 'solution'}, {'text': '8', 'type': 'solution'}]\n"
       ]
      }
     ],
     "prompt_number": 97
    },
    {
     "cell_type": "code",
     "collapsed": false,
     "input": [
      "brideDict['relations'][0]['action']"
     ],
     "language": "python",
     "metadata": {},
     "outputs": [
      {
       "metadata": {},
       "output_type": "pyout",
       "prompt_number": 98,
       "text": [
        "{u'lemmatized': u'live',\n",
        " u'text': u'lives',\n",
        " u'verb': {u'tense': u'present', u'text': u'live'}}"
       ]
      }
     ],
     "prompt_number": 98
    },
    {
     "cell_type": "code",
     "collapsed": false,
     "input": [
      "for i in brideDict['relations']: #[0].keys()\n",
      "    #print i.keys()\n",
      "    print i.keys()\n",
      "    #print type(i['sentence'])\n",
      "    #print i['subject'].keys()\n",
      "    try:\n",
      "        print i['subject']['action']#['entities']\n",
      "    except:\n",
      "        print 'no action'\n",
      "        print i['subject']\n",
      "    try:\n",
      "        if 2== len(i['subject']['entities']): #.keys()\n",
      "            print i['subject']['entities']\n",
      "    except:\n",
      "        print 'no entities'\n",
      "        print i['subject']\n",
      "    break"
     ],
     "language": "python",
     "metadata": {},
     "outputs": [
      {
       "output_type": "stream",
       "stream": "stdout",
       "text": [
        "[u'action', u'subject', u'location', u'sentence']\n",
        "no action\n",
        "{u'text': u'a beautiful young woman named Buttercup', u'entities': [{u'text': u'Fezzik\\u2014kidnap Buttercup', u'type': u'Person'}]}\n"
       ]
      }
     ],
     "prompt_number": 96
    },
    {
     "cell_type": "code",
     "collapsed": false,
     "input": [
      "for i in brideDict['relations']: #[0].keys()\n",
      "    #print i.keys()\n",
      "    print i.keys()\n",
      "    print type(i['sentence'])\n",
      "    print i['subject'].keys()\n",
      "    print i['subject']['text']#['entities']\n",
      "    try:\n",
      "        print i['subject']['entities'] #.keys()\n",
      "    except:\n",
      "        print 'no entities'"
     ],
     "language": "python",
     "metadata": {},
     "outputs": [
      {
       "output_type": "stream",
       "stream": "stdout",
       "text": [
        "[u'action', u'subject', u'location', u'sentence']\n",
        "<type 'unicode'>\n",
        "[u'text', u'entities']\n",
        "a beautiful young woman named Buttercup\n",
        "[{u'text': u'Fezzik\\u2014kidnap Buttercup', u'type': u'Person'}]\n",
        "[u'action', u'subject', u'object', u'sentence']\n",
        "<type 'unicode'>\n",
        "[u'text', u'entities']\n",
        "She\n",
        "[{u'text': u'Fezzik\\u2014kidnap Buttercup', u'type': u'Person'}]\n",
        "[u'action', u'subject', u'object', u'sentence']\n",
        "<type 'unicode'>\n",
        "[u'text', u'entities']\n",
        "Westley's only answer\n",
        "[{u'text': u'Westley', u'type': u'Person'}]\n",
        "[u'action', u'subject', u'object', u'sentence']\n",
        "<type 'unicode'>\n",
        "[u'text', u'entities']\n",
        "She\n",
        "[{u'text': u'Westley', u'type': u'Person'}]\n",
        "[u'action', u'subject', u'object', u'sentence']\n",
        "<type 'unicode'>\n",
        "[u'text', u'entities']\n",
        "Buttercup\n",
        "[{u'text': u'Fezzik\\u2014kidnap Buttercup', u'type': u'Person'}]\n",
        "[u'action', u'subject', u'object', u'sentence']\n",
        "<type 'unicode'>\n",
        "[u'text', u'entities']\n",
        "she\n",
        "[{u'text': u'Fezzik\\u2014kidnap Buttercup', u'type': u'Person'}]\n",
        "[u'action', u'subject', u'object', u'sentence']\n",
        "<type 'unicode'>\n",
        "[u'text', u'entities']\n",
        "Westley\n",
        "[{u'text': u'Westley', u'type': u'Person'}]\n",
        "[u'action', u'subject', u'object', u'sentence']\n",
        "<type 'unicode'>\n",
        "[u'text', u'entities']\n",
        "Buttercup\n",
        "[{u'text': u'Fezzik\\u2014kidnap Buttercup', u'type': u'Person'}]\n",
        "[u'action', u'subject', u'object', u'sentence']\n",
        "<type 'unicode'>\n",
        "[u'text', u'entities']\n",
        "the Dread Pirate Roberts\n",
        "[{u'text': u'Roberts', u'type': u'Person'}]\n",
        "[u'action', u'subject', u'object', u'sentence']\n",
        "<type 'unicode'>\n",
        "[u'text', u'entities']\n",
        "the Dread Pirate Roberts\n",
        "[{u'text': u'Roberts', u'type': u'Person'}]\n",
        "[u'action', u'subject', u'object', u'sentence']\n",
        "<type 'unicode'>\n",
        "[u'text', u'entities']\n",
        "all those whose vessels he boards,\n",
        "[{u'text': u'Roberts', u'type': u'Person'}]\n",
        "[u'action', u'subject', u'object', u'sentence']\n",
        "<type 'unicode'>\n",
        "[u'text', u'entities']\n",
        "Buttercup\n",
        "[{u'text': u'Fezzik\\u2014kidnap Buttercup', u'type': u'Person'}]\n",
        "[u'action', u'subject', u'sentence']\n",
        "<type 'unicode'>\n",
        "[u'text', u'entities']\n",
        "Buttercup\n",
        "[{u'text': u'Fezzik\\u2014kidnap Buttercup', u'type': u'Person'}]\n",
        "[u'action', u'subject', u'object', u'sentence']\n",
        "<type 'unicode'>\n",
        "[u'text', u'entities']\n",
        "Buttercup\n",
        "[{u'text': u'Fezzik\\u2014kidnap Buttercup', u'type': u'Person'}]\n",
        "[u'action', u'subject', u'sentence']\n",
        "<type 'unicode'>\n",
        "[u'text', u'entities']\n",
        "she\n",
        "[{u'text': u'Fezzik\\u2014kidnap Buttercup', u'type': u'Person'}]\n",
        "[u'action', u'subject', u'object', u'sentence']\n",
        "<type 'unicode'>\n",
        "[u'text']\n",
        "a law\n",
        "no entities\n",
        "[u'action', u'subject', u'object', u'sentence']\n",
        "<type 'unicode'>\n",
        "[u'text', u'entities']\n",
        "Prince Humperdinck, the heir\n",
        "[{u'text': u'Prince Humperdinck', u'type': u'Person'}]\n",
        "[u'action', u'subject', u'object', u'sentence']\n",
        "<type 'unicode'>\n",
        "[u'text']\n",
        "she\n",
        "no entities\n",
        "[u'action', u'subject', u'object', u'sentence']\n",
        "<type 'unicode'>\n",
        "[u'text']\n",
        "she\n",
        "no entities\n",
        "[u'action', u'subject', u'object', u'sentence']\n",
        "<type 'unicode'>\n",
        "[u'text', u'entities']\n",
        "Vizzini orders Inigo\n",
        "[{u'text': u'Vizzini', u'type': u'Person'}, {u'text': u'Inigo Montoya', u'type': u'Person'}]\n",
        "[u'action', u'subject', u'object', u'sentence']\n",
        "<type 'unicode'>\n",
        "[u'text']\n",
        "the novel\n",
        "no entities\n",
        "[u'action', u'subject', u'object', u'sentence']\n",
        "<type 'unicode'>\n",
        "[u'text', u'entities']\n",
        "Inigo\n",
        "[{u'text': u'Inigo Montoya', u'type': u'Person'}]\n",
        "[u'action', u'subject', u'object', u'sentence']\n",
        "<type 'unicode'>\n",
        "[u'text', u'entities']\n",
        "Vizzini orders Fezzik\n",
        "[{u'text': u'Fezzik', u'type': u'Person'}]\n",
        "[u'action', u'subject', u'object', u'sentence']\n",
        "<type 'unicode'>\n",
        "[u'text', u'entities']\n",
        "Vizzini orders Fezzik\n",
        "[{u'text': u'Fezzik', u'type': u'Person'}]\n",
        "[u'action', u'subject', u'object', u'sentence']\n",
        "<type 'unicode'>\n",
        "[u'text']\n",
        "Another flashback\n",
        "no entities\n",
        "[u'action', u'subject', u'object', u'sentence']\n",
        "<type 'unicode'>\n",
        "[u'text', u'entities']\n",
        "Fezzik\n",
        "[{u'text': u'Fezzik', u'type': u'Person'}]\n",
        "[u'action', u'subject', u'object', u'sentence']\n",
        "<type 'unicode'>\n",
        "[u'text', u'entities']\n",
        "He\n",
        "[{u'text': u'Fezzik', u'type': u'Person'}]\n",
        "[u'action', u'subject', u'object', u'sentence']\n",
        "<type 'unicode'>\n",
        "[u'text', u'entities']\n",
        "He\n",
        "[{u'text': u'Fezzik', u'type': u'Person'}]\n",
        "[u'action', u'subject', u'object', u'sentence']\n",
        "<type 'unicode'>\n",
        "[u'text', u'entities']\n",
        "he\n",
        "[{u'text': u'Vizzini', u'type': u'Person'}]\n",
        "[u'action', u'subject', u'object', u'sentence']\n",
        "<type 'unicode'>\n",
        "[u'text']\n",
        "He\n",
        "no entities\n",
        "[u'action', u'subject', u'object', u'sentence']\n",
        "<type 'unicode'>\n",
        "[u'text', u'entities']\n",
        "Buttercup\n",
        "[{u'text': u'Fezzik\\u2014kidnap Buttercup', u'type': u'Person'}]\n",
        "[u'action', u'subject', u'object', u'sentence']\n",
        "<type 'unicode'>\n",
        "[u'text', u'entities']\n",
        "she\n",
        "[{u'text': u'Fezzik\\u2014kidnap Buttercup', u'type': u'Person'}]\n",
        "[u'action', u'subject', u'object', u'sentence']\n",
        "<type 'unicode'>\n",
        "[u'text', u'entities']\n",
        "she\n",
        "[{u'text': u'Fezzik\\u2014kidnap Buttercup', u'type': u'Person'}]\n",
        "[u'action', u'subject', u'object', u'sentence']\n",
        "<type 'unicode'>\n",
        "[u'text', u'entities']\n",
        "she\n",
        "[{u'text': u'Fezzik\\u2014kidnap Buttercup', u'type': u'Person'}]\n",
        "[u'action', u'subject', u'object', u'sentence']\n",
        "<type 'unicode'>\n",
        "[u'text', u'entities']\n",
        "She\n",
        "[{u'text': u'Fezzik\\u2014kidnap Buttercup', u'type': u'Person'}]\n",
        "[u'action', u'subject', u'object', u'sentence']\n",
        "<type 'unicode'>\n",
        "[u'text', u'entities']\n",
        "She\n",
        "[{u'text': u'Fezzik\\u2014kidnap Buttercup', u'type': u'Person'}]\n",
        "[u'action', u'subject', u'object', u'sentence']\n",
        "<type 'unicode'>\n",
        "[u'text', u'entities']\n",
        "She\n",
        "[{u'text': u'Fezzik\\u2014kidnap Buttercup', u'type': u'Person'}]\n",
        "[u'action', u'subject', u'object', u'sentence']\n",
        "<type 'unicode'>\n",
        "[u'text', u'entities']\n",
        "Westley\n",
        "[{u'text': u'Westley', u'type': u'Person'}]\n",
        "[u'action', u'subject', u'object', u'sentence']\n",
        "<type 'unicode'>\n",
        "[u'text', u'entities']\n",
        "the Dread Pirate Roberts\n",
        "[{u'text': u'Roberts', u'type': u'Person'}]\n",
        "[u'action', u'subject', u'object', u'sentence']\n",
        "<type 'unicode'>\n",
        "[u'text', u'entities']\n",
        "the Dread Pirate Roberts\n",
        "[{u'text': u'Roberts', u'type': u'Person'}]\n",
        "[u'action', u'subject', u'object', u'sentence']\n",
        "<type 'unicode'>\n",
        "[u'text', u'entities']\n",
        "him\n",
        "[{u'text': u'Roberts', u'type': u'Person'}]\n",
        "[u'action', u'subject', u'object', u'sentence']\n",
        "<type 'unicode'>\n",
        "[u'text', u'entities']\n",
        "he\n",
        "[{u'text': u'Roberts', u'type': u'Person'}]\n",
        "[u'action', u'subject', u'object', u'sentence']\n",
        "<type 'unicode'>\n",
        "[u'text', u'entities']\n",
        "Westley\n",
        "[{u'text': u'Westley', u'type': u'Person'}]\n",
        "[u'action', u'subject', u'object', u'sentence']\n",
        "<type 'unicode'>\n",
        "[u'text', u'entities']\n",
        "Westley\n",
        "[{u'text': u'Westley', u'type': u'Person'}]\n",
        "[u'action', u'subject', u'object', u'sentence']\n",
        "<type 'unicode'>\n",
        "[u'text', u'entities']\n",
        "Roberts\n",
        "[{u'text': u'Roberts', u'type': u'Person'}]\n",
        "[u'action', u'subject', u'object', u'sentence']\n",
        "<type 'unicode'>\n",
        "[u'text', u'entities']\n",
        "Westley and Buttercup\n",
        "[{u'text': u'Westley', u'type': u'Person'}, {u'text': u'Fezzik\\u2014kidnap Buttercup', u'type': u'Person'}]\n",
        "[u'action', u'subject', u'object', u'sentence']\n",
        "<type 'unicode'>\n",
        "[u'text', u'entities']\n",
        "by Prince Humperdinck and his menacing six-fingered assistant, Count Tyrone Rugen\n",
        "[{u'text': u'Prince Humperdinck', u'type': u'Person'}, {u'text': u'Tyrone Rugen', u'type': u'Person'}]\n",
        "[u'action', u'subject', u'object', u'sentence']\n",
        "<type 'unicode'>\n",
        "[u'text', u'entities']\n",
        "returns with Humperdinck to the palace\n",
        "[{u'text': u'Prince Humperdinck', u'type': u'Person'}]\n",
        "[u'action', u'subject', u'object', u'sentence']\n",
        "<type 'unicode'>\n",
        "[u'text', u'entities']\n",
        "Humperdinck\n",
        "[{u'text': u'Prince Humperdinck', u'type': u'Person'}]\n",
        "[u'action', u'subject', u'object', u'sentence']\n",
        "<type 'unicode'>\n",
        "[u'text', u'entities']\n",
        "him\n",
        "[{u'text': u'Prince Humperdinck', u'type': u'Person'}]\n",
        "[u'action', u'subject', u'object', u'sentence']\n",
        "<type 'unicode'>\n",
        "[u'text', u'entities']\n",
        "Buttercup\n",
        "[{u'text': u'Fezzik\\u2014kidnap Buttercup', u'type': u'Person'}]\n",
        "[u'action', u'subject', u'object', u'sentence']\n",
        "<type 'unicode'>\n",
        "[u'text', u'entities']\n",
        "She\n",
        "[{u'text': u'Fezzik\\u2014kidnap Buttercup', u'type': u'Person'}]\n",
        "[u'action', u'subject', u'object', u'sentence']\n",
        "<type 'unicode'>\n",
        "[u'text', u'entities']\n",
        "Humperdinck\n",
        "[{u'text': u'Prince Humperdinck', u'type': u'Person'}]\n",
        "[u'action', u'subject', u'object', u'sentence']\n",
        "<type 'unicode'>\n",
        "[u'text', u'entities']\n",
        "he\n",
        "[{u'text': u'Prince Humperdinck', u'type': u'Person'}]\n",
        "[u'action', u'subject', u'object', u'sentence']\n",
        "<type 'unicode'>\n",
        "[u'text', u'entities']\n",
        "Westley\n",
        "[{u'text': u'Westley', u'type': u'Person'}]\n",
        "[u'action', u'subject', u'object', u'sentence']\n",
        "<type 'unicode'>\n",
        "[u'text']\n",
        "they\n",
        "no entities\n",
        "[u'action', u'subject', u'object', u'sentence']\n",
        "<type 'unicode'>\n",
        "[u'text']\n",
        "they\n",
        "no entities\n",
        "[u'action', u'subject', u'object', u'sentence']\n",
        "<type 'unicode'>\n",
        "[u'text']\n",
        "The novel\n",
        "no entities\n",
        "[u'action', u'subject', u'object', u'sentence']\n",
        "<type 'unicode'>\n",
        "[u'text', u'entities']\n",
        "the one\n",
        "[{u'text': u'Prince Humperdinck', u'type': u'Person'}]\n",
        "[u'action', u'subject', u'object', u'sentence']\n",
        "<type 'unicode'>\n",
        "[u'text', u'entities']\n",
        "he\n",
        "[{u'text': u'Prince Humperdinck', u'type': u'Person'}]\n",
        "[u'action', u'subject', u'object', u'sentence']\n",
        "<type 'unicode'>\n",
        "[u'text', u'entities']\n",
        "Inigo\n",
        "[{u'text': u'Inigo Montoya', u'type': u'Person'}]\n",
        "[u'action', u'subject', u'object', u'sentence']\n",
        "<type 'unicode'>\n",
        "[u'text', u'entities']\n",
        "that Count Rugen is the six-fingered man who killed his father\n",
        "[{u'text': u'Tyrone Rugen', u'type': u'Person'}, {u'text': u'Tyrone Rugen', u'type': u'Person'}]\n",
        "[u'action', u'subject', u'object', u'sentence']\n",
        "<type 'unicode'>\n",
        "[u'text', u'entities']\n",
        "Count Rugen\n",
        "[{u'text': u'Tyrone Rugen', u'type': u'Person'}]\n",
        "[u'action', u'subject', u'object', u'sentence']\n",
        "<type 'unicode'>\n",
        "[u'text', u'entities']\n",
        "the six-fingered man\n",
        "[{u'text': u'Tyrone Rugen', u'type': u'Person'}]\n",
        "[u'action', u'subject', u'object', u'sentence']\n",
        "<type 'unicode'>\n",
        "[u'text']\n",
        "they\n",
        "no entities\n",
        "[u'action', u'subject', u'object', u'sentence']\n",
        "<type 'unicode'>\n",
        "[u'text']\n",
        "he\n",
        "no entities\n",
        "[u'action', u'subject', u'object', u'sentence']\n",
        "<type 'unicode'>\n",
        "[u'text']\n",
        "his wits\n",
        "no entities\n",
        "[u'action', u'subject', u'object', u'sentence']\n",
        "<type 'unicode'>\n",
        "[u'text', u'entities']\n",
        "Buttercup\n",
        "[{u'text': u'Fezzik\\u2014kidnap Buttercup', u'type': u'Person'}]\n",
        "[u'action', u'subject', u'object', u'sentence']\n",
        "<type 'unicode'>\n",
        "[u'text', u'entities']\n",
        "Humperdinck\n",
        "[{u'text': u'Prince Humperdinck', u'type': u'Person'}]\n",
        "[u'action', u'subject', u'object', u'sentence']\n",
        "<type 'unicode'>\n",
        "[u'text', u'entities']\n",
        "Buttercup\n",
        "[{u'text': u'Fezzik\\u2014kidnap Buttercup', u'type': u'Person'}]\n",
        "[u'action', u'subject', u'location', u'sentence']\n",
        "<type 'unicode'>\n",
        "[u'text', u'entities']\n",
        "Westley\n",
        "[{u'text': u'Westley', u'type': u'Person'}]\n",
        "[u'action', u'subject', u'object', u'sentence']\n",
        "<type 'unicode'>\n",
        "[u'text', u'entities']\n",
        "Westley\n",
        "[{u'text': u'Westley', u'type': u'Person'}]\n",
        "[u'action', u'subject', u'object', u'sentence']\n",
        "<type 'unicode'>\n",
        "[u'text']\n",
        "they\n",
        "no entities\n",
        "[u'action', u'subject', u'object', u'sentence']\n",
        "<type 'unicode'>\n",
        "[u'text', u'entities']\n",
        "Max\n",
        "[{u'text': u'Miracle Max', u'type': u'Person'}]\n",
        "[u'action', u'subject', u'object', u'sentence']\n",
        "<type 'unicode'>\n",
        "[u'text', u'entities']\n",
        "Westley\n",
        "[{u'text': u'Westley', u'type': u'Person'}]\n",
        "[u'action', u'subject', u'object', u'sentence']\n",
        "<type 'unicode'>\n",
        "[u'text', u'entities']\n",
        "Buttercup\n",
        "[{u'text': u'Fezzik\\u2014kidnap Buttercup', u'type': u'Person'}]\n",
        "[u'action', u'subject', u'object', u'sentence']\n",
        "<type 'unicode'>\n",
        "[u'text', u'entities']\n",
        "Buttercup\n",
        "[{u'text': u'Fezzik\\u2014kidnap Buttercup', u'type': u'Person'}]\n",
        "[u'action', u'subject', u'object', u'sentence']\n",
        "<type 'unicode'>\n",
        "[u'text', u'entities']\n",
        "she\n",
        "[{u'text': u'Fezzik\\u2014kidnap Buttercup', u'type': u'Person'}]\n",
        "[u'action', u'subject', u'object', u'sentence']\n",
        "<type 'unicode'>\n",
        "[u'text', u'entities']\n",
        "Inigo\n",
        "[{u'text': u'Inigo Montoya', u'type': u'Person'}]\n",
        "[u'action', u'subject', u'object', u'sentence']\n",
        "<type 'unicode'>\n",
        "[u'text', u'entities']\n",
        "Inigo\n",
        "[{u'text': u'Inigo Montoya', u'type': u'Person'}]\n",
        "[u'action', u'subject', u'object', u'sentence']\n",
        "<type 'unicode'>\n",
        "[u'text', u'entities']\n",
        "My name\n",
        "[{u'text': u'Inigo Montoya', u'type': u'Person'}]\n",
        "[u'action', u'subject', u'object', u'sentence']\n",
        "<type 'unicode'>\n",
        "[u'text', u'entities']\n",
        "Westley\n",
        "[{u'text': u'Westley', u'type': u'Person'}]\n",
        "[u'action', u'subject', u'object', u'sentence']\n",
        "<type 'unicode'>\n",
        "[u'text', u'entities']\n",
        "she\n",
        "[{u'text': u'Fezzik\\u2014kidnap Buttercup', u'type': u'Person'}]\n",
        "[u'action', u'subject', u'object', u'sentence']\n",
        "<type 'unicode'>\n",
        "[u'text', u'entities']\n",
        "himself\n",
        "[{u'text': u'Prince Humperdinck', u'type': u'Person'}]\n",
        "[u'action', u'subject', u'object', u'sentence']\n",
        "<type 'unicode'>\n",
        "[u'text', u'entities']\n",
        "Westley\n",
        "[{u'text': u'Westley', u'type': u'Person'}]\n",
        "[u'action', u'subject', u'object', u'sentence']\n",
        "<type 'unicode'>\n",
        "[u'text', u'entities']\n",
        "Westley\n",
        "[{u'text': u'Westley', u'type': u'Person'}]\n",
        "[u'action', u'subject', u'object', u'sentence']\n",
        "<type 'unicode'>\n",
        "[u'text', u'entities']\n",
        "Westley\n",
        "[{u'text': u'Westley', u'type': u'Person'}]\n",
        "[u'action', u'subject', u'object', u'sentence']\n",
        "<type 'unicode'>\n",
        "[u'text', u'entities']\n",
        "Fezzik\n",
        "[{u'text': u'Fezzik', u'type': u'Person'}]\n"
       ]
      }
     ],
     "prompt_number": 33
    },
    {
     "cell_type": "code",
     "collapsed": false,
     "input": [
      "brideDict['relations'][0]['sentence']"
     ],
     "language": "python",
     "metadata": {},
     "outputs": [
      {
       "metadata": {},
       "output_type": "pyout",
       "prompt_number": 18,
       "text": [
        "u' In a Renaissance-era world a beautiful young woman named Buttercup lives on a farm in the country of Florin.'"
       ]
      }
     ],
     "prompt_number": 18
    },
    {
     "cell_type": "code",
     "collapsed": false,
     "input": [],
     "language": "python",
     "metadata": {},
     "outputs": [
      {
       "metadata": {},
       "output_type": "pyout",
       "prompt_number": 63,
       "text": [
        "[{u'both': [u'Fezzik\\u2014kidnap Buttercup'],\n",
        "  u'objects': [],\n",
        "  u'subjects': [u'Fezzik\\u2014kidnap Buttercup']},\n",
        " {u'both': [u'Fezzik\\u2014kidnap Buttercup', u'Westley', u'Westley'],\n",
        "  u'objects': [u'Westley', u'Westley'],\n",
        "  u'subjects': [u'Fezzik\\u2014kidnap Buttercup']},\n",
        " {u'both': [u'Westley'], u'objects': [], u'subjects': [u'Westley']},\n",
        " {u'both': [u'Westley'], u'objects': [], u'subjects': [u'Westley']},\n",
        " {u'both': [u'Fezzik\\u2014kidnap Buttercup', u'Fezzik\\u2014kidnap Buttercup'],\n",
        "  u'objects': [u'Fezzik\\u2014kidnap Buttercup'],\n",
        "  u'subjects': [u'Fezzik\\u2014kidnap Buttercup']}]"
       ]
      }
     ],
     "prompt_number": 63
    },
    {
     "cell_type": "code",
     "collapsed": false,
     "input": [
      "brideDict['people_array']"
     ],
     "language": "python",
     "metadata": {},
     "outputs": [
      {
       "metadata": {},
       "output_type": "pyout",
       "prompt_number": 14,
       "text": [
        "[u'Fezzik\\u2014kidnap Buttercup',\n",
        " u'Westley',\n",
        " u'Roberts',\n",
        " u'Prince Humperdinck',\n",
        " u'Vizzini',\n",
        " u'Inigo Montoya',\n",
        " u'Fezzik',\n",
        " u'Tyrone Rugen',\n",
        " u'Miracle Max']"
       ]
      }
     ],
     "prompt_number": 14
    },
    {
     "cell_type": "code",
     "collapsed": false,
     "input": [
      "brideDict['people']"
     ],
     "language": "python",
     "metadata": {},
     "outputs": [
      {
       "metadata": {},
       "output_type": "pyout",
       "prompt_number": 15,
       "text": [
        "{u'Fezzik': {u'objects': [24, 60, 61, 71],\n",
        "  u'subjects': [22, 23, 25, 26, 27, 87]},\n",
        " u'Fezzik\\u2014kidnap Buttercup': {u'objects': [4,\n",
        "   29,\n",
        "   30,\n",
        "   37,\n",
        "   41,\n",
        "   57,\n",
        "   57,\n",
        "   58,\n",
        "   59,\n",
        "   81],\n",
        "  u'subjects': [0,\n",
        "   1,\n",
        "   4,\n",
        "   5,\n",
        "   7,\n",
        "   11,\n",
        "   12,\n",
        "   13,\n",
        "   14,\n",
        "   30,\n",
        "   31,\n",
        "   32,\n",
        "   33,\n",
        "   34,\n",
        "   35,\n",
        "   36,\n",
        "   45,\n",
        "   50,\n",
        "   51,\n",
        "   67,\n",
        "   69,\n",
        "   75,\n",
        "   76,\n",
        "   77,\n",
        "   82]},\n",
        " u'Inigo Montoya': {u'objects': [19, 20, 71, 80],\n",
        "  u'subjects': [19, 21, 60, 78, 79, 80]},\n",
        " u'Miracle Max': {u'objects': [], u'subjects': [73]},\n",
        " u'Prince Humperdinck': {u'objects': [15,\n",
        "   17,\n",
        "   18,\n",
        "   52,\n",
        "   55,\n",
        "   56,\n",
        "   57,\n",
        "   57,\n",
        "   57,\n",
        "   67,\n",
        "   69,\n",
        "   74],\n",
        "  u'subjects': [16, 46, 47, 48, 49, 52, 53, 58, 59, 68, 83]},\n",
        " u'Roberts': {u'objects': [8, 42],\n",
        "  u'subjects': [8, 9, 10, 38, 39, 40, 41, 44]},\n",
        " u'Tyrone Rugen': {u'objects': [62, 78], u'subjects': [46, 61, 61, 62, 63]},\n",
        " u'Vizzini': {u'objects': [27, 27, 27, 28, 64, 65], u'subjects': [19, 28]},\n",
        " u'Westley': {u'objects': [1, 1, 11, 34, 42, 48, 52, 72, 73],\n",
        "  u'subjects': [2, 3, 6, 37, 42, 43, 45, 54, 70, 71, 74, 81, 84, 85, 86]}}"
       ]
      }
     ],
     "prompt_number": 15
    },
    {
     "cell_type": "code",
     "collapsed": false,
     "input": [
      "brideDict['people']['Tyrone Rugen']"
     ],
     "language": "python",
     "metadata": {},
     "outputs": [
      {
       "metadata": {},
       "output_type": "pyout",
       "prompt_number": 16,
       "text": [
        "{u'objects': [62, 78], u'subjects': [46, 61, 61, 62, 63]}"
       ]
      }
     ],
     "prompt_number": 16
    },
    {
     "cell_type": "code",
     "collapsed": false,
     "input": [],
     "language": "python",
     "metadata": {},
     "outputs": [],
     "prompt_number": 16
    }
   ],
   "metadata": {}
  }
 ]
}